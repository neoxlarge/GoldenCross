{
  "cells": [
    {
      "cell_type": "code",
      "execution_count": 1,
      "metadata": {
        "id": "r11aN35Du9VP"
      },
      "outputs": [],
      "source": [
        "try:\n",
        "    import vectorbt\n",
        "except ModuleNotFoundError as e:\n",
        "    !pip install vectorbt    \n",
        "\n",
        "try:\n",
        "    import yfinance\n",
        "except ModuleNotFoundError as e:\n",
        "    !pip install yfinance   \n",
        "\n",
        "try:\n",
        "    import ccxt\n",
        "except ModuleNotFoundError as e:\n",
        "    !pip install ccxt\n",
        "\n",
        "try:\n",
        "    import talib\n",
        "except ModuleNotFoundError as e:\n",
        "    !pip install talib_binary         \n",
        "\n",
        "\n",
        "from IPython.display import clear_output\n",
        "clear_output()\n",
        "\n",
        "!exit"
      ]
    },
    {
      "cell_type": "code",
      "execution_count": 5,
      "metadata": {
        "colab": {
          "base_uri": "https://localhost:8080/"
        },
        "id": "1PvN1Do4uviD",
        "outputId": "4f087e76-7b32-4a39-b13a-e3c05ec3d550"
      },
      "outputs": [],
      "source": [
        "\n",
        "import vectorbt as vbt\n",
        "import talib\n",
        "import pandas as pd\n"
      ]
    },
    {
      "cell_type": "code",
      "execution_count": 285,
      "metadata": {
        "id": "UcVwpMOEtwIL"
      },
      "outputs": [],
      "source": [
        "#@title 回測設定\n",
        "symbol_name = \"SOL/USDT\" #@param {type:\"string\"}\n",
        "\n",
        "#timeframe = ['1m', '5m', '15m', '1h', '4h', '1d', '3d']\n",
        "timeframe = ['1h','4h','1d']\n",
        "\n",
        "date_start = \"2021-01-01\" #@param {type:\"date\"}\n",
        "date_end = \"2022-01-01\" #@param {type:\"date\"}\n",
        "\n",
        "ema_s_start = 12 #@param {type:\"integer\"}\n",
        "ema_s_end = 14 #@param {type:\"integer\"}\n",
        "\n",
        "ema_m_start = 50 #@param {type:\"integer\"}\n",
        "ema_m_end = 53 #@param {type:\"integer\"}\n",
        "\n",
        "sma_deduct_start = 20 #@param {type:\"integer\"}\n",
        "sma_deduct_end = 23 #@param {type:\"integer\"}\n",
        "\n",
        "\n",
        "init_cash = 100 #@param {type:\"integer\"}\n",
        "\n"
      ]
    },
    {
      "cell_type": "code",
      "execution_count": null,
      "metadata": {},
      "outputs": [],
      "source": [
        "result = pd.DataFrame()\n",
        "for i_timeframe in timeframe:\n",
        "    data = vbt.CCXTData.download(\n",
        "        symbols=symbol_name,\n",
        "        start=date_start,\n",
        "        end=date_end,\n",
        "        timeframe=i_timeframe)\n",
        "\n",
        "    ohlc_df = data.get(\"Close\")\n",
        "    \n",
        "    for i_ema_s in range(ema_s_start , ema_s_end):\n",
        "        #print(f\"emasss:  {i_ema_s}\")\n",
        "\n",
        "        for i_ema_m in range(ema_m_start , ema_m_end):\n",
        "            #print(f\"emammm:  {i_ema_m}\")\n",
        "            ema_sline = talib.EMA(ohlc_df,timeperiod=i_ema_s)\n",
        "            ema_mline = talib.EMA(ohlc_df,timeperiod=i_ema_m)\n",
        "                \n",
        "            ema_entry = [False]\n",
        "            ema_exit = [False]\n",
        "                \n",
        "            for i in range(1,ema_sline.shape[0]):\n",
        "                if ema_sline[i] > ema_mline[i] and ema_sline[i-1] < ema_mline[i-1]:\n",
        "                    ema_entry.append(True)\n",
        "                else:\n",
        "                    ema_entry.append(False)\n",
        "\n",
        "                if ema_sline[i] < ema_mline[i] and ema_sline[i-1] > ema_mline[i-1]:\n",
        "                    ema_exit.append(True)\n",
        "                else:\n",
        "                    ema_exit.append(False)\n",
        "\n",
        "            ema_pf = vbt.Portfolio.from_signals(\n",
        "                    close=ohlc_df, \n",
        "                    entries=ema_entry,\n",
        "                    exits=ema_exit, \n",
        "                    init_cash=init_cash)\n",
        "            ema_portfolio = ema_pf.stats()\n",
        "            ema_sr = pd.Series([i_timeframe,i_ema_s,i_ema_m,0],index=[\"timeframe\",\"ema_s\",\"ems_m\",\"sma_deduct\"]) \n",
        "            ema_portfolio = pd.concat([ema_sr,ema_portfolio])\n",
        "            result = pd.concat([result,ema_portfolio.to_frame().T],axis=0,ignore_index=True)   \n",
        "            \n",
        "                        \n",
        "            for i_sma_d in range(sma_deduct_start,sma_deduct_end):\n",
        "                sma_d_exit = [False]\n",
        "                for i in range(1,ohlc_df.shape[0]):\n",
        "                    if ohlc_df[i] < ohlc_df[i-i_sma_d]:\n",
        "                        sma_d_exit.append(True)\n",
        "                    else:\n",
        "                        sma_d_exit.append(False)    \n",
        "                \n",
        "                sma_pf = vbt.Portfolio.from_signals(\n",
        "                    close=ohlc_df, \n",
        "                    entries=ema_entry,\n",
        "                    exits=sma_d_exit, \n",
        "                    init_cash=init_cash)       \n",
        "\n",
        "                sma_portfolio = sma_pf.stats() \n",
        "                sma_sr = pd.Series([i_timeframe,i_ema_s,i_ema_m,i_sma_d],index=[\"timeframe\",\"ema_s\",\"ems_m\",\"sma_deduct\"])\n",
        "                sma_portfolio = pd.concat([sma_sr,sma_portfolio])\n",
        "                result = pd.concat([result,sma_portfolio.to_frame().T],axis=0,ignore_index=True)   \n",
        "           \n",
        "\n",
        "clear_output() \n",
        "print(f\"backtimes: {result.shape[0]}\")   "
      ]
    },
    {
      "cell_type": "code",
      "execution_count": null,
      "metadata": {},
      "outputs": [],
      "source": [
        "#依獲利排序，取前100, 存到csv檔\n",
        "result.sort_values(\"End Value\", ascending=False, inplace=True)\n",
        "result.head(100).to_csv(f\"{symbol_name.replace('/','')}_fulltable.csv\")\n",
        "result.head(100)"
      ]
    },
    {
      "cell_type": "code",
      "execution_count": null,
      "metadata": {},
      "outputs": [],
      "source": [
        "#依獲利排序，取前100, 存到csv檔\n",
        "result.sort_values(\"Win Rate [%]\", ascending=False, inplace=True)\n",
        "result.head(100).to_csv(f\"{symbol_name.replace('/','')}_fulltable.csv\")\n",
        "result.head(100)"
      ]
    }
  ],
  "metadata": {
    "colab": {
      "collapsed_sections": [],
      "provenance": []
    },
    "kernelspec": {
      "display_name": "Python 3.10.6 64-bit",
      "language": "python",
      "name": "python3"
    },
    "language_info": {
      "codemirror_mode": {
        "name": "ipython",
        "version": 3
      },
      "file_extension": ".py",
      "mimetype": "text/x-python",
      "name": "python",
      "nbconvert_exporter": "python",
      "pygments_lexer": "ipython3",
      "version": "3.10.6"
    },
    "vscode": {
      "interpreter": {
        "hash": "7518c2d94d56795350c911b421abc6df3e3069473fc8630d77e6305a35218b0d"
      }
    }
  },
  "nbformat": 4,
  "nbformat_minor": 0
}
