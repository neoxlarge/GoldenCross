{
  "cells": [
    {
      "cell_type": "markdown",
      "source": [
        "# 功能:掃指定範圍的所有ema均線組合,找出獲利/勝率最大的組合.\n",
        "* 進場:均線黃金交叉\n",
        "* 出場:均線死忘交叉 或 收盤價低於sma扺扣價\n",
        "* 方向:多,空,多空雙向\n",
        "\n",
        "### 範圍開太大會跑很久\n",
        "### 開啟google drive是為了把結果存檔到CSV檔.不然colab會自動消失.不想用的請自註解掉."
      ],
      "metadata": {
        "id": "a5YilN32wnEY"
      }
    },
    {
      "cell_type": "code",
      "source": [
        "#戴入google drive\n",
        "from google.colab import drive\n",
        "drive.mount('/content/drive') # 此處需要登入google帳號\n"
      ],
      "metadata": {
        "colab": {
          "base_uri": "https://localhost:8080/"
        },
        "id": "PiJHe2AaiJNe",
        "outputId": "e402356f-9aef-455e-9189-d8e997fb1a3b"
      },
      "execution_count": 1,
      "outputs": [
        {
          "output_type": "stream",
          "name": "stdout",
          "text": [
            "Mounted at /content/drive\n"
          ]
        }
      ]
    },
    {
      "cell_type": "code",
      "execution_count": 2,
      "metadata": {
        "id": "x3zVAfDjnYQg"
      },
      "outputs": [],
      "source": [
        "try:\n",
        "    import vectorbt\n",
        "except ModuleNotFoundError as e:\n",
        "    !pip install vectorbt    \n",
        "\n",
        "try:\n",
        "    import yfinance\n",
        "except ModuleNotFoundError as e:\n",
        "    !pip install yfinance   \n",
        "\n",
        "try:\n",
        "    import ccxt\n",
        "except ModuleNotFoundError as e:\n",
        "    !pip install ccxt\n",
        "\n",
        "try:\n",
        "    import talib\n",
        "except ModuleNotFoundError as e:\n",
        "    !pip install talib_binary         \n",
        "\n",
        "\n",
        "from IPython.display import clear_output\n",
        "clear_output()\n",
        "\n",
        "!exit"
      ]
    },
    {
      "cell_type": "code",
      "execution_count": 3,
      "metadata": {
        "id": "1PvN1Do4uviD"
      },
      "outputs": [],
      "source": [
        "\n",
        "import vectorbt as vbt\n",
        "import talib\n",
        "import pandas as pd\n"
      ]
    },
    {
      "cell_type": "markdown",
      "source": [
        "代號名和資料來源是有相關性的.\n",
        "*   CCXT:應該只支援加密貨幣.ex: BTC/USDT\n",
        "*   Yahoo_Finance:台股,美股,加密貨幣都支援. ex: 2357.tw, TSLA, BTC-USD\n",
        "(https://finance.yahoo.com/)\n",
        "\n",
        "timeframe和資料來源也是有相關性的.\n",
        "*   CCXT: ['1m', '5m', '15m', '1h', '4h', '1d', '3d']\n",
        "*   Yahoo_finance: ['1m', '2m', '5m', '15m', '30m', '60', '90m', '1h', '1d', '5d', '1wk', '1mo', '3mo']\n",
        "\n"
      ],
      "metadata": {
        "id": "jvslGvkmB39-"
      }
    },
    {
      "cell_type": "code",
      "execution_count": 4,
      "metadata": {
        "id": "UcVwpMOEtwIL"
      },
      "outputs": [],
      "source": [
        "#@title 回測設定\n",
        "symbol_name = \"TSLA\" #@param {type:\"string\"}\n",
        "data_source = \"Yahoo_Finance\" #@param [\"CCXT\",\"Yahoo_Finance\"]\n",
        "\n",
        "#ccxt timeframe = ['1m', '5m', '15m', '1h', '4h', '1d', '3d']\n",
        "timeframe_list = ['1h','1d']\n",
        "\n",
        "date_start = \"2021-01-01\" #@param {type:\"date\"}\n",
        "date_end = \"2022-09-21\" #@param {type:\"date\"}\n",
        "\n",
        "ema_s_start = 8 #@param {type:\"integer\"}\n",
        "ema_s_end = 25 #@param {type:\"integer\"}\n",
        "\n",
        "ema_m_start = 12 #@param {type:\"integer\"}\n",
        "ema_m_end = 69 #@param {type:\"integer\"}\n",
        "\n",
        "sma_deduct_start = 5 #@param {type:\"integer\"}\n",
        "sma_deduct_end = 30 #@param {type:\"integer\"}\n",
        "\n",
        "\n",
        "init_cash = 100 #@param {type:\"integer\"}\n",
        "\n",
        "direction = \"both\" #@param [\"longonly\",\"shortonly\",\"both\"]\n",
        "#@markdown 多工平行運算(可減少25%時間)\n",
        "multi_processing = True #@param {type:\"boolean\"}\n",
        "\n",
        "\n",
        "\n",
        "ema_s_list = [ema for ema in range(ema_s_start, ema_s_end+1)]\n",
        "ema_m_list = [ema for ema in range(ema_m_start, ema_m_end+1)]\n",
        "sma_d_list = [0]+[d for d in range(sma_deduct_start,sma_deduct_end+1)]"
      ]
    },
    {
      "cell_type": "code",
      "source": [
        "#download data\n",
        "\n",
        "ohlc_data = dict()\n",
        "if data_source == \"CCXT\":\n",
        "    for i in timeframe_list:\n",
        "        data = vbt.CCXTData.download(\n",
        "            symbols=symbol_name,\n",
        "            start=date_start,\n",
        "            end=date_end,\n",
        "            timeframe=i\n",
        "        )\n",
        "        ohlc_data.update(\n",
        "            {i: data}\n",
        "        )\n",
        "elif data_source == \"Yahoo_Finance\":\n",
        "    for i in timeframe_list:\n",
        "        data = vbt.YFData.download(\n",
        "            symbols=symbol_name,\n",
        "            start=date_start,\n",
        "            end=date_end,\n",
        "            interval=i\n",
        "        )\n",
        "        ohlc_data.update(\n",
        "            {i: data}\n",
        "        )\n"
      ],
      "metadata": {
        "id": "NWSz1-9nbb2I"
      },
      "execution_count": 5,
      "outputs": []
    },
    {
      "cell_type": "code",
      "source": [
        "#define function\n",
        "\n",
        "\n",
        "def scan_ma(timeframe):\n",
        "\n",
        "    results = pd.DataFrame()    \n",
        "\n",
        "    close_price = ohlc_data[timeframe].get(\"Close\")\n",
        "    \n",
        "    for i_es in ema_s_list:\n",
        "        for i_em in ema_m_list:\n",
        "\n",
        "            ema_sline = talib.EMA(close_price, timeperiod=i_es)\n",
        "            ema_mline = talib.EMA(close_price, timeperiod=i_em) \n",
        "\n",
        "            ema_entry = [False]\n",
        "            ema_exit = [False]\n",
        "            sma_d_exit = [False] \n",
        "\n",
        "            for i in range(1,ema_sline.shape[0]):\n",
        "                if ema_sline[i] > ema_mline[i] and ema_sline[i-1] < ema_mline[i-1]:\n",
        "                    ema_entry.append(True)\n",
        "                else:\n",
        "                    ema_entry.append(False)\n",
        "\n",
        "                if ema_sline[i] < ema_mline[i] and ema_sline[i-1] > ema_mline[i-1]:\n",
        "                    ema_exit.append(True)\n",
        "                else:\n",
        "                    ema_exit.append(False)\n",
        "\n",
        "                \n",
        "            for i_sd in sma_d_list:\n",
        "               \n",
        "                if i_sd == 0:\n",
        "                    pf = vbt.Portfolio.from_signals(\n",
        "                        close=close_price,\n",
        "                        entries=ema_entry,\n",
        "                        exits=ema_exit,\n",
        "                        init_cash=init_cash,\n",
        "                        direction=direction,\n",
        "                        \n",
        "                    )\n",
        "                else:\n",
        "                    sma_d_exit=[False]    \n",
        "                    for i in range(1,close_price.shape[0]):\n",
        "                        if close_price[i] < close_price[i-i_sd]:\n",
        "                            sma_d_exit.append(True)\n",
        "                        else:\n",
        "                            sma_d_exit.append(False)    \n",
        "\n",
        "                    pf = vbt.Portfolio.from_signals(\n",
        "                        close=close_price,\n",
        "                        entries=ema_entry,\n",
        "                        exits=sma_d_exit,\n",
        "                        init_cash=init_cash,\n",
        "                        direction=direction\n",
        "                    )   \n",
        "                temp_series = pd.Series([timeframe,i_es,i_em,i_sd],index=[\"timeframe\",\"ema_s\",\"ema_m\",\"sma_d\"])\n",
        "\n",
        "                results = pd.concat([results,temp_series.append(pf.stats(silence_warnings=True))],axis=1)\n",
        "\n",
        "\n",
        "    return results\n",
        "\n"
      ],
      "metadata": {
        "id": "ffIUrZTUjgiM"
      },
      "execution_count": 6,
      "outputs": []
    },
    {
      "cell_type": "code",
      "source": [
        "#main \n",
        "\n",
        "import warnings\n",
        "#warnings.filterwarnings('ignore')\n",
        "\n",
        "import multiprocessing as mp\n",
        "\n",
        "cpus = mp.cpu_count()\n",
        "pool = mp.Pool(processes=cpus)\n",
        "\n",
        "result_df = pd.DataFrame()\n",
        "\n",
        "if multi_processing is True:\n",
        "\n",
        "    result = pool.map(scan_ma,timeframe_list)\n",
        "\n",
        "    for i in result:\n",
        "        result_df = pd.concat([result_df,i],axis=1)\n",
        "    result_df = result_df.T\n",
        "    result_df.reset_index(drop=True,inplace=True)\n",
        "else:\n",
        "    \n",
        "    for i in timeframe_list:\n",
        "        result = scan_ma(i)\n",
        "        result_df = pd.concat([result_df,result],axis=1,ignore_index=True)\n",
        "    result_df = result_df.T\n",
        "\n",
        "print(f\"Full combination count: {result_df.shape[0]}\")"
      ],
      "metadata": {
        "id": "yqzggwSp7aKG"
      },
      "execution_count": null,
      "outputs": []
    },
    {
      "cell_type": "code",
      "source": [
        "#依獲利排序，取前100, 存到google drive ,檔案格式csv\n",
        "import os\n",
        "\n",
        "result_df.sort_values(\"End Value\", ascending=False, inplace=True)\n",
        "result_df.head(100).to_csv(f\"{symbol_name.replace('/','')}_endvaluetable.csv\")\n",
        "if os.path.exists(\"/content/drive/MyDrive/Colab Notebooks/\"):\n",
        "    result_df.head(100).to_csv(f\"/content/drive/MyDrive/Colab Notebooks/{symbol_name.replace('/','')}_endvaluetable.csv\")\n",
        "result_df.head(10)\n"
      ],
      "metadata": {
        "id": "92cECVHrbM6-"
      },
      "execution_count": null,
      "outputs": []
    },
    {
      "cell_type": "code",
      "source": [
        "#依Win Rate排序，取前100, 存到csv檔\n",
        "\n",
        "result_df.sort_values(\"Win Rate [%]\", ascending=False, inplace=True)\n",
        "result_df.head(100).to_csv(f\"{symbol_name.replace('/','')}_winratetable.csv\")\n",
        "if os.path.exists(\"/content/drive/MyDrive/Colab Notebooks/\"):\n",
        "    result_df.head(100).to_csv(f\"/content/drive/MyDrive/Colab Notebooks/{symbol_name.replace('/','')}_winratetable.csv\")\n",
        "result_df.head(10)"
      ],
      "metadata": {
        "id": "DEmVyE4jxe7C"
      },
      "execution_count": null,
      "outputs": []
    }
  ],
  "metadata": {
    "colab": {
      "collapsed_sections": [],
      "provenance": []
    },
    "kernelspec": {
      "display_name": "Python 3.10.6 64-bit",
      "language": "python",
      "name": "python3"
    },
    "language_info": {
      "codemirror_mode": {
        "name": "ipython",
        "version": 3
      },
      "file_extension": ".py",
      "mimetype": "text/x-python",
      "name": "python",
      "nbconvert_exporter": "python",
      "pygments_lexer": "ipython3",
      "version": "3.10.6"
    },
    "vscode": {
      "interpreter": {
        "hash": "7518c2d94d56795350c911b421abc6df3e3069473fc8630d77e6305a35218b0d"
      }
    }
  },
  "nbformat": 4,
  "nbformat_minor": 0
}