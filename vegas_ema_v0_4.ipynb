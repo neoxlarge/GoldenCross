{
  "cells": [
    {
      "cell_type": "markdown",
      "metadata": {
        "colab_type": "text",
        "id": "view-in-github"
      },
      "source": [
        "<a href=\"https://colab.research.google.com/github/neoxlarge/GoldenCross/blob/%E5%8F%B0%E8%82%A1/vegas_ema_v0_3.ipynb\" target=\"_parent\"><img src=\"https://colab.research.google.com/assets/colab-badge.svg\" alt=\"Open In Colab\"/></a>"
      ]
    },
    {
      "cell_type": "markdown",
      "metadata": {
        "id": "IfCiq2voE4TZ"
      },
      "source": [
        "\n",
        "\n",
        ">\n",
        "1.   請自行儲存復本修改\n",
        "2.   按\"執行階段\"/\"全部執行\"\n",
        "3.   或者每格順序執行\n",
        "4.   ema,timeframe參數可自行修改\n",
        "5.   抓取FTX全部USD交易對,再檢查在設定的timeframe是否出現黃金交叉,再畫出線圖.\n",
        "6.   可以自行修改放到Deepnote跑telegram bot,bot token 和　chat id,請自行google. 並把最後一行#send_to_bot_photo..., 的#號刪掉就可以跑telegram bot了.\n",
        "7.    測試用的telegram channel: https://t.me/neoxbot_test       \n",
        "\n",
        "\n",
        "\n"
      ]
    },
    {
      "cell_type": "code",
      "execution_count": 2,
      "metadata": {
        "id": "4DJnTGymVnDU"
      },
      "outputs": [],
      "source": [
        "#@title User Setting { display-mode: \"both\" }\n",
        "\n",
        "#ema setting\n",
        "ema_s = 12 #@param {type:\"integer\"}\n",
        "ema_m1 = 55 #@param {type:\"integer\"}\n",
        "ema_m2 = 76 #@param {type:\"integer\"}\n",
        "ema_h1 = 144 #@param {type:\"integer\"}\n",
        "ema_h2 = 169 #@param {type:\"integer\"}\n",
        "sma_s = 20 #@param {type:\"integer\"}\n",
        "\n",
        "\n",
        "#ftx supprted timeframe ['15s', '1m', '5m', '15m', '1h', '4h', '1d', '3d', '1w', '2w', '1M']\n",
        "#timeframe\n",
        "t_frame = \"1h\" #@param ['1h', '4h', '1d', '3d']\n",
        "\n",
        "#線圖的佈景 https://plotly.com/python/templates/\n",
        "plotly_theme = \"plotly_dark\" #@param [\"plotly_dark\", \"plotly_white\", \"plotly\", \"ggplot2\", \"seaborn\", \"simple_white\", \"none\"]\n",
        "\n",
        "#@markdown Telegram bot setting\n",
        "bot_token = '' #@param {type:\"string\"}\n",
        "chat_id = '' #@param {type:\"string\"}\n"
      ]
    },
    {
      "cell_type": "markdown",
      "metadata": {
        "id": "t45WGNjDJFIh"
      },
      "source": [
        "Deepnote 無法安裝talib-binance, 需要特別的安裝方式.參考[用 Python 快速計算 158 種技術指標](https://medium.com/ai%E8%82%A1%E4%BB%94/%E7%94%A8-python-%E5%BF%AB%E9%80%9F%E8%A8%88%E7%AE%97-158-%E7%A8%AE%E6%8A%80%E8%A1%93%E6%8C%87%E6%A8%99-26f9579b8f3a)\n",
        "\n"
      ]
    },
    {
      "cell_type": "code",
      "execution_count": 3,
      "metadata": {
        "colab": {
          "background_save": true
        },
        "id": "ScZfXGzVV1u-"
      },
      "outputs": [
        {
          "name": "stdout",
          "output_type": "stream",
          "text": [
            "Requirement already satisfied: jedi in c:\\users\\neoxlarge\\appdata\\local\\programs\\python\\python310\\lib\\site-packages (0.18.1)\n",
            "Requirement already satisfied: parso<0.9.0,>=0.8.0 in c:\\users\\neoxlarge\\appdata\\local\\programs\\python\\python310\\lib\\site-packages (from jedi) (0.8.3)\n",
            "Collecting kaleido\n",
            "  Downloading kaleido-0.2.1-py2.py3-none-win_amd64.whl (65.9 MB)\n",
            "     -------------------------------------- 65.9/65.9 MB 881.1 kB/s eta 0:00:00\n",
            "Installing collected packages: kaleido\n",
            "Successfully installed kaleido-0.2.1\n"
          ]
        }
      ],
      "source": [
        "import os\n",
        "\n",
        "if os.name == \"posix\":\n",
        "    !rm -f *.png\n",
        "\n",
        "#安裝套件\n",
        "import os\n",
        "\n",
        "!pip install jedi\n",
        "\n",
        "try:\n",
        "    import kaleido\n",
        "except ModuleNotFoundError as e:\n",
        "    pass\n",
        "    !pip install -U kaleido    \n",
        "\n",
        "try:\n",
        "    import talib\n",
        "except ModuleNotFoundError as e:\n",
        "    if os.path.exists(\"./talib\"):\n",
        "        %cd ta-lib\n",
        "    else:    \n",
        "        !wget http://prdownloads.sourceforge.net/ta-lib/ta-lib-0.4.0-src.tar.gz\n",
        "        !tar -xzvf ta-lib-0.4.0-src.tar.gz\n",
        "        %cd ta-lib\n",
        "    !./configure --prefix=/usr\n",
        "    !make\n",
        "    !make install\n",
        "    !pip install Ta-Lib\n",
        "    %cd ..\n",
        "    !rm -f ta-lib-0.4.0-src.tar.gz   \n",
        "    !rm -rf ta-lib   \n",
        "\n",
        "try:\n",
        "    import ccxt\n",
        "except ModuleNotFoundError as e:\n",
        "    pass\n",
        "    #!pip install ccxt                    \n",
        "\n"
      ]
    },
    {
      "cell_type": "code",
      "execution_count": 4,
      "metadata": {
        "colab": {
          "background_save": true
        },
        "id": "InATMY7-DcG9"
      },
      "outputs": [],
      "source": [
        "#載入模組\n",
        "\n",
        "import talib\n",
        "import requests\n",
        "import pandas as pd\n",
        "import numpy as np\n",
        "import datetime as dt\n",
        "import time\n",
        "import ccxt\n",
        "import plotly.graph_objects as px\n"
      ]
    },
    {
      "cell_type": "code",
      "execution_count": 5,
      "metadata": {
        "colab": {
          "background_save": true
        },
        "id": "o3ZyKUEgV_zM"
      },
      "outputs": [],
      "source": [
        "#crypto\n",
        "#獲取FTX的現貨/USD交易對\n",
        "exchange = ccxt.ftx()\n",
        "exchange.load_markets()\n",
        "symbol_list = set()\n",
        "ex_symbol_list = set()\n",
        "#排除底下字串\n",
        "ex_string=(\"USD:USD\",\"BULL\",\"BEAR\",\"HALF\",\"HEDGE\",\"JPY\",\"EUR\",\"TRYB\",\"AUD\",\"/BTC\",\"/DOGE\",\"/USDT\",\"GBP\",\"HKD\",\"ZAR\",\"CAD\",\"BRZ\",\"MXN\",\"ARS\",\"DAI\")\n",
        "for i in exchange.symbols:\n",
        "    for j in ex_string:\n",
        "        if i.find(j) != -1:\n",
        "            ex_symbol_list.add(i)\n",
        "\n",
        "crypto_symbol_list = set(exchange.symbols) - ex_symbol_list #set差集運算\n",
        "\n",
        "#print(len(symbol_list))\n",
        "#print(symbol_list)\n",
        "     "
      ]
    },
    {
      "cell_type": "code",
      "execution_count": 7,
      "metadata": {
        "colab": {
          "background_save": true
        },
        "id": "DdZdeNRxcmbU"
      },
      "outputs": [],
      "source": [
        "#crypto\n",
        "#自定義交易對列表 2022/08/26\n",
        "#如果要使用自定的交易對,請把symbol_inFTX 改成 symbol_list.\n",
        "crypto_symbol_inFTX = ['1INCH/USD', 'AAPL/USD', 'AAVE/USD', 'ABNB/USD', 'ACB/USD', 'AGLD/USD', 'AKRO/USD', 'ALCX/USD',\n",
        "        'ALEPH/USD', 'ALGO/USD', 'ALICE/USD', 'ALPHA/USD', 'AMC Entertainment Holdings/USD',\n",
        "        'AMD/USD', 'AMPL/USD', 'AMZN/USD', 'ANC/USD', 'APE/USD', 'APHA/USD', 'ARKK/USD',\n",
        "        'ASD/USD', 'ATLAS/USD', 'ATOM/USD', 'AURY/USD', 'AVAX/USD', 'AXS/USD', 'BABA/USD',\n",
        "        'BADGER/USD', 'BAL/USD', 'BAND/USD', 'BAO/USD', 'BAR/USD', 'BAT/USD', 'BB/USD',\n",
        "        'BCH/USD', 'BICO/USD', 'BILI/USD', 'BIT/USD', 'BITO/USD', 'BITW/USD', 'BLT/USD',\n",
        "        'BNB/USD', 'BNT/USD', 'BNTX/USD', 'BOBA/USD', 'BTC/USD', 'BTT/USD', 'BVOL/USD',\n",
        "        'BYND/USD', 'C98/USD', 'CEL/USD', 'CGC/USD', 'CHR/USD', 'CHZ/USD', 'CITY/USD',\n",
        "        'CLV/USD', 'COIN/USD', 'COMP/USD', 'CONV/USD', 'COPE/USD', 'CQT/USD', 'CREAM/USD',\n",
        "        'CRO/USD', 'CRON/USD', 'CRV/USD', 'CTX/USD', 'CUSDT/USD', 'CVC/USD', 'CVX/USD',\n",
        "        'DAWN/USD', 'DENT/USD', 'DFL/USD', 'DKNG/USD', 'DMG/USD', 'DODO/USD', 'DOGE/USD',\n",
        "        'DOT/USD', 'DYDX/USD', 'EDEN/USD', 'EMB/USD', 'ENJ/USD', 'ENS/USD', 'ETH/USD',\n",
        "        'ETHE/USD', 'FB/USD', 'FIDA/USD', 'FRONT/USD', 'FTM/USD', 'FTT/USD', 'FXS/USD',\n",
        "        'GAL/USD', 'GALA/USD', 'GALFAN/USD', 'GARI/USD', 'GBTC/USD', 'GDX/USD', 'GDXJ/USD',\n",
        "        'GENE/USD', 'GLD/USD', 'GLXY/USD', 'GME/USD', 'GMT/USD', 'GODS/USD', 'GOG/USD',\n",
        "        'GOOGL/USD', 'GRT/USD', 'GST/USD', 'GT/USD', 'HGET/USD', 'HMT/USD', 'HNT/USD',\n",
        "        'HOLY/USD', 'HOOD/USD', 'HT/USD', 'HUM/USD', 'HXRO/USD', 'IBVOL/USD', 'IMX/USD',\n",
        "        'INDI/USD', 'INTER/USD', 'IP3/USD', 'JET/USD', 'JOE/USD', 'JST/USD', 'KBTT/USD',\n",
        "        'KIN/USD', 'KNC/USD', 'KSHIB/USD', 'KSOS/USD', 'LDO/USD', 'LEO/USD', 'LINA/USD',\n",
        "        'LINK/USD', 'LOOKS/USD', 'LRC/USD', 'LTC/USD', 'LUA/USD', 'MANA/USD', 'MAPS/USD',\n",
        "        'MATH/USD', 'MATIC/USD', 'MBS/USD', 'MCB/USD', 'MEDIA/USD', 'MER/USD', 'MKR/USD',\n",
        "        'MNGO/USD', 'MOB/USD', 'MRNA/USD', 'MSOL/USD', 'MSTR/USD', 'MTA/USD', 'MTL/USD',\n",
        "        'NEAR/USD', 'NEXO/USD', 'NFLX/USD', 'NIO/USD', 'NOK/USD', 'NVDA/USD', 'OKB/USD',\n",
        "        'OMG/USD', 'ORBS/USD', 'ORCA/USD', 'OXY/USD', 'PAXG/USD', 'PENN/USD', 'PEOPLE/USD',\n",
        "        'PERP/USD', 'PFE/USD', 'POLIS/USD', 'PORT/USD', 'PRISM/USD', 'PROM/USD', 'PSG/USD',\n",
        "        'PSY/USD', 'PTU/USD', 'PUNDIX/USD', 'PYPL/USD', 'QI/USD', 'RAY/USD', 'REAL/USD',\n",
        "        'REEF/USD', 'REN/USD', 'RNDR/USD', 'ROOK/USD', 'RSR/USD', 'SAND/USD', 'SECO/USD',\n",
        "        'SHIB/USD', 'SKL/USD', 'SLND/USD', 'SLP/USD', 'SLRS/USD', 'SLV/USD', 'SNX/USD',\n",
        "        'SNY/USD', 'SOL/USD', 'SOS/USD', 'SPA/USD', 'SPELL/USD', 'SPY/USD', 'SQ/USD',\n",
        "        'SRM/USD', 'STEP/USD', 'STETH/USD', 'STG/USD', 'STMX/USD', 'STORJ/USD', 'STSOL/USD',\n",
        "        'SUN/USD', 'SUSHI/USD', 'SXP/USD', 'StarLaunch/USD', 'TLM/USD', 'TLRY/USD', 'TOMO/USD',\n",
        "        'TONCOIN/USD', 'TRU/USD', 'TRX/USD', 'TSLA/USD', 'TSM/USD', 'TULIP/USD', 'TWTR/USD',\n",
        "        'UBER/USD', 'UBXT/USD', 'UMEE/USD', 'UNI/USD', 'USDT/USD', 'USO/USD', 'VGX/USD',\n",
        "        'WAVES/USD', 'WBTC/USD', 'WtFLOW/USD', 'WNDR/USD', 'WRX/USD', 'XAUT/USD', 'XRP/USD',\n",
        "        'YFI/USD', 'YFII/USD', 'YGG/USD', 'ZM/USD', 'ZRX/USD']\n",
        " "
      ]
    },
    {
      "cell_type": "code",
      "execution_count": 8,
      "metadata": {},
      "outputs": [
        {
          "name": "stdout",
          "output_type": "stream",
          "text": [
            "輸入成功!\n"
          ]
        }
      ],
      "source": [
        "#tw stock from finlib\n",
        "try:\n",
        "    from finlab import data as finlab_api\n",
        "except ModuleNotFoundError as e:\n",
        "    !pip install finlab\n",
        "    from finlab import data  as finlab_api \n",
        "\n",
        "finlab_api.login(api_token='t9Pfhf34p8QHqMjxS3XDap1WHMoTYpnDfMzNjxcJAfMHyf63bcnWGkC3lKKRLud/#free')\n",
        "\n",
        "open_df = finlab_api.get(\"price:開盤價\",save_to_storage=True)\n",
        "high_df = finlab_api.get(\"price:最高價\",save_to_storage=True)\n",
        "low_df = finlab_api.get(\"price:最低價\",save_to_storage=True)\n",
        "close_df = finlab_api.get(\"price:收盤價\",save_to_storage=True)\n",
        "volume_df = finlab_api.get(\"price:成交筆數\",save_to_storage=True)\n",
        "\n",
        "open_df = open_df.tail(400)\n",
        "high_df = high_df.tail(400)\n",
        "low_df = low_df.tail(400)\n",
        "close_df = close_df.tail(400)\n",
        "volume_df = volume_df.tail(400)\n",
        "\n",
        "alltwstock_df = finlab_api.get('security_categories',save_to_storage=True)\n",
        "\n",
        "#sii \n",
        "twstock_symbol_list=[]\n",
        "for i in range(alltwstock_df.shape[0]):\n",
        "    if alltwstock_df['market'][i] in ('sii','otc','rotc'):\n",
        "        twstock_symbol_list.append(f\"{alltwstock_df['stock_id'][i]}/{alltwstock_df['name'][i]}\")\n",
        "        "
      ]
    },
    {
      "cell_type": "code",
      "execution_count": 10,
      "metadata": {},
      "outputs": [
        {
          "name": "stdout",
          "output_type": "stream",
          "text": [
            "2536\n"
          ]
        }
      ],
      "source": [
        "print(len(twstock_symbol_list))"
      ]
    },
    {
      "cell_type": "code",
      "execution_count": 9,
      "metadata": {},
      "outputs": [
        {
          "name": "stdout",
          "output_type": "stream",
          "text": [
            "            0015    0050   0051    0052   0053   0054   0055   0056   0057  \\\n",
            "date                                                                         \n",
            "2021-01-07   NaN  126.55  44.41  114.95  60.35  29.30  18.10  30.05  83.85   \n",
            "2021-01-08   NaN  130.60  44.68  119.00  61.80  29.78  18.15  30.35  85.85   \n",
            "2021-01-11   NaN  131.20  44.85  119.65  62.15  29.79  18.31  30.49  86.20   \n",
            "2021-01-12   NaN  132.30  45.15  121.25  62.35  30.08  18.41  30.61  86.90   \n",
            "2021-01-13   NaN  132.75  45.00  123.20  62.55  30.05  18.21  30.49  87.40   \n",
            "...          ...     ...    ...     ...    ...    ...    ...    ...    ...   \n",
            "2022-08-23   NaN  118.55  55.20  100.00  58.00    NaN  23.69  29.07  84.55   \n",
            "2022-08-24   NaN  118.80  55.05   99.95  57.95    NaN  23.60  28.98  84.70   \n",
            "2022-08-25   NaN  118.50  55.40  100.30  58.25    NaN  23.56  28.91  84.65   \n",
            "2022-08-26   NaN  119.85  55.85  101.55  58.70    NaN  23.70  29.10  85.50   \n",
            "2022-08-29   NaN  116.25  54.80   98.25  56.50    NaN  23.45  28.44  83.25   \n",
            "\n",
            "            0058  ...   9944  9945   9946   9949   9950  9951   9955   9958  \\\n",
            "date              ...                                                         \n",
            "2021-01-07   NaN  ...  22.65  40.4  16.00  11.95   9.97  94.8  20.45  107.0   \n",
            "2021-01-08   NaN  ...  22.65  40.3  15.90  12.05   9.88  99.7  20.70  115.0   \n",
            "2021-01-11   NaN  ...  22.80  40.4  15.85  12.10   9.98  98.9  20.00  108.0   \n",
            "2021-01-12   NaN  ...  22.65  40.7  15.50  12.05   9.89  98.2  19.85  106.0   \n",
            "2021-01-13   NaN  ...  22.55  40.6  15.15  11.90   9.98  95.7  19.45  102.0   \n",
            "...          ...  ...    ...   ...    ...    ...    ...   ...    ...    ...   \n",
            "2022-08-23   NaN  ...  20.50  62.4  12.90  18.90  11.30  63.6  20.80   85.9   \n",
            "2022-08-24   NaN  ...  20.50  61.9  13.10  18.75  11.25  63.8  21.50   86.8   \n",
            "2022-08-25   NaN  ...  20.55  63.0  13.15  19.25  11.40  63.9  21.50   88.7   \n",
            "2022-08-26   NaN  ...  20.70  63.2  13.15  18.65  11.55  63.9  21.90   88.3   \n",
            "2022-08-29   NaN  ...  20.55  61.9  13.00    NaN  11.00  67.2  21.20   83.2   \n",
            "\n",
            "             9960   9962  \n",
            "date                      \n",
            "2021-01-07  31.65  10.35  \n",
            "2021-01-08  31.65  10.05  \n",
            "2021-01-11    NaN   9.83  \n",
            "2021-01-12    NaN   9.98  \n",
            "2021-01-13  31.75   9.58  \n",
            "...           ...    ...  \n",
            "2022-08-23  25.05  15.70  \n",
            "2022-08-24  25.30  15.80  \n",
            "2022-08-25  25.20  15.85  \n",
            "2022-08-26  25.35  15.90  \n",
            "2022-08-29  25.00  15.45  \n",
            "\n",
            "[400 rows x 2350 columns]\n"
          ]
        }
      ],
      "source": [
        "print(open_df)"
      ]
    },
    {
      "cell_type": "code",
      "execution_count": 11,
      "metadata": {},
      "outputs": [],
      "source": [
        "# read twstock from csv\n",
        "open_df = pd.read_csv(\"open.csv\")\n",
        "\n",
        "high_df = pd.read_csv(\"high.csv\")\n",
        "\n",
        "low_df = pd.read_csv(\"low.csv\")\n",
        "\n",
        "close_df = pd.read_csv(\"close.csv\")\n",
        "\n",
        "volume_df = pd.read_csv(\"volume.csv\")"
      ]
    },
    {
      "cell_type": "code",
      "execution_count": 16,
      "metadata": {},
      "outputs": [
        {
          "name": "stdout",
          "output_type": "stream",
          "text": [
            "           date   open   high    low  close      volume\n",
            "0    2021-01-06  254.0  255.0  250.0  254.0   3000993.0\n",
            "1    2021-01-07  255.0  265.5  252.5  261.5   7328733.0\n",
            "2    2021-01-08  265.0  280.0  264.5  279.5  11156512.0\n",
            "3    2021-01-11  282.5  287.5  279.0  283.5   6356183.0\n",
            "4    2021-01-12  285.0  287.0  280.0  281.0   5029335.0\n",
            "..          ...    ...    ...    ...    ...         ...\n",
            "395  2022-08-22  262.5  267.5  262.5  267.5   3445408.0\n",
            "396  2022-08-23  265.0  266.0  260.5  260.5   3838589.0\n",
            "397  2022-08-24  261.0  261.0  253.5  254.0   4466536.0\n",
            "398  2022-08-25  256.0  257.0  252.0  255.5   3359908.0\n",
            "399  2022-08-26  257.0  258.5  256.0  258.5   2486501.0\n",
            "\n",
            "[400 rows x 6 columns]\n"
          ]
        }
      ],
      "source": [
        "symbol=\"2357\"\n",
        "\n",
        "ohlc_df = pd.concat([open_df[\"date\"],open_df[\"2357\"],high_df[\"2357\"],low_df[\"2357\"],close_df[\"2357\"],volume_df[\"2357\"]],axis=1)\n",
        "col=[\"date\",\"open\",\"high\",\"low\",\"close\",\"volume\"]\n",
        "ohlc_df.columns = col\n",
        "print(ohlc_df)"
      ]
    },
    {
      "cell_type": "markdown",
      "metadata": {
        "id": "jDafdQSfs5UG"
      },
      "source": [
        "plotly畫K線\n",
        "\n",
        "telegram bot sendphoto\n",
        "[telegram api sendphoto](https://core.telegram.org/bots/api#sendphoto)\n",
        "\n",
        "[code sample](https://stackoverflow.com/questions/36778321/how-to-send-photo-on-telegram-bot)"
      ]
    },
    {
      "cell_type": "code",
      "execution_count": 17,
      "metadata": {
        "colab": {
          "background_save": true
        },
        "id": "ApZv5NOLWhJx"
      },
      "outputs": [],
      "source": [
        "#define function\n",
        "#\n",
        "#get ohlc_data\n",
        "def get_crypto_ohlc_data(symbol, timeframe=\"1h\"):\n",
        "    ohlc_data = exchange.fetch_ohlcv(symbol,timeframe=timeframe,limit=400)\n",
        "    \n",
        "    for i in ohlc_data:\n",
        "        i[0] = dt.datetime.fromtimestamp(i[0]/1000)\n",
        "\n",
        "    ohlc_df = pd.DataFrame(ohlc_data,columns=[\"date\",\"open\",\"high\",\"low\",\"close\",\"volume\"]) \n",
        "    \n",
        "    ohlc_df.date = pd.to_datetime(ohlc_df.date)\n",
        "    \n",
        "    ema_sline = talib.EMA(ohlc_df[\"close\"],timeperiod=ema_s)\n",
        "    ema_m1line = talib.EMA(ohlc_df[\"close\"],timeperiod=ema_m1)\n",
        "    ema_m2line = talib.EMA(ohlc_df[\"close\"],timeperiod=ema_m2)\n",
        "    ema_h1line = talib.EMA(ohlc_df[\"close\"],timeperiod=ema_h1)\n",
        "    ema_h2line = talib.EMA(ohlc_df[\"close\"],timeperiod=ema_h2)\n",
        "    sma_sline = talib.SMA(ohlc_df[\"close\"],timeperiod=sma_s)\n",
        "\n",
        "    ohlc_df['ema_sline'] = ema_sline\n",
        "    ohlc_df['ema_m1line'] = ema_m1line\n",
        "    ohlc_df['ema_m2line'] = ema_m2line\n",
        "    ohlc_df['ema_h1line'] = ema_h1line\n",
        "    ohlc_df['ema_h2line'] = ema_h2line\n",
        "    ohlc_df['sma_sline'] = sma_sline\n",
        "\n",
        "    data = {\n",
        "        'symbol' : symbol,\n",
        "        'ohlc_df' : ohlc_df.tail(150),\n",
        "        'timeframe' : timeframe,\n",
        "        'market' : \"crypto\"\n",
        "    }\n",
        "    return data\n",
        "\n",
        "def get_twstock_ohlc_data(symbol,daysago=200) :\n",
        "    \n",
        "    # read twstock from csv\n",
        "    '''\n",
        "    open_df = pd.read_csv(\"open.csv\")\n",
        "    high_df = pd.read_csv(\"high.csv\")\n",
        "    low_df = pd.read_csv(\"low.csv\")\n",
        "    close_df = pd.read_csv(\"close.csv\")\n",
        "    volume_df = pd.read_csv(\"volume.csv\")\n",
        "    '''\n",
        "    symbo_code = symbol.split(\"/\")[0]\n",
        "    ohlc_df = pd.concat([open_df[\"date\"],open_df[symbo_code],high_df[symbo_code],low_df[symbo_code],close_df[symbo_code],volume_df[symbo_code]],axis=1)\n",
        "    col=[\"date\",\"open\",\"high\",\"low\",\"close\",\"volume\"]\n",
        "    ohlc_df.columns = col\n",
        "\n",
        "    \n",
        "    ema_sline = talib.EMA(ohlc_df[\"close\"],timeperiod=ema_s)\n",
        "    ema_m1line = talib.EMA(ohlc_df[\"close\"],timeperiod=ema_m1)\n",
        "    ema_m2line = talib.EMA(ohlc_df[\"close\"],timeperiod=ema_m2)\n",
        "    ema_h1line = talib.EMA(ohlc_df[\"close\"],timeperiod=ema_h1)\n",
        "    ema_h2line = talib.EMA(ohlc_df[\"close\"],timeperiod=ema_h2)    \n",
        "    sma_sline = talib.SMA(ohlc_df[\"close\"],timeperiod=sma_s)\n",
        "\n",
        "    ohlc_df['ema_sline'] = ema_sline\n",
        "    ohlc_df['ema_m1line'] = ema_m1line\n",
        "    ohlc_df['ema_m2line'] = ema_m2line\n",
        "    ohlc_df['ema_h1line'] = ema_h1line\n",
        "    ohlc_df['ema_h2line'] = ema_h2line    \n",
        "    ohlc_df['sma_sline'] = sma_sline\n",
        "\n",
        "    data = {\n",
        "    'market' : \"twstock\",    \n",
        "    'symbol' : symbol[0],\n",
        "    'ohlc_df' : ohlc_df,\n",
        "    'timeframe' : \"1d\"\n",
        "    }\n",
        "    return data\n",
        "\n",
        "\n",
        "#檢查黃金交差, ema_s向上交叉ema_m1或ema_m2,選最高者\n",
        "def check_long_condition_ema(data):\n",
        "    long_condition = False\n",
        "    if data[\"ohlc_df\"][\"ema_m1line\"].iat[-1] > data[\"ohlc_df\"][\"ema_m2line\"].iat[-1]:\n",
        "        if data[\"ohlc_df\"][\"ema_sline\"].iat[-1] > data[\"ohlc_df\"][\"ema_m1line\"].iat[-1] \\\n",
        "        and data[\"ohlc_df\"][\"ema_sline\"].iat[-2] < data[\"ohlc_df\"][\"ema_m1line\"].iat[-2]:\n",
        "            long_condition = True\n",
        "    else:\n",
        "        if data[\"ohlc_df\"][\"ema_sline\"].iat[-1] > data[\"ohlc_df\"][\"ema_m2line\"].iat[-1] \\\n",
        "        and data[\"ohlc_df\"][\"ema_sline\"].iat[-2] < data[\"ohlc_df\"][\"ema_m2line\"].iat[-2]:\n",
        "            long_condition = True\n",
        "\n",
        "    return long_condition     \n",
        "\n",
        "#檢查死亡交差, ema_s向下交叉ema_m1或ema_m2,選最低者\n",
        "def check_short_condition_ema(data):\n",
        "    short_condition = False\n",
        "    \n",
        "    if data[\"ohlc_df\"][\"ema_m1line\"].iat[-1] < data[\"ohlc_df\"][\"ema_m2line\"].iat[-1]:\n",
        "        if data[\"ohlc_df\"][\"ema_sline\"].iat[-1] < data[\"ohlc_df\"][\"ema_m1line\"].iat[-1] \\\n",
        "        and data[\"ohlc_df\"][\"ema_sline\"].iat[-2] > data[\"ohlc_df\"][\"ema_m1line\"].iat[-2]:\n",
        "            short_condition = True\n",
        "    else:\n",
        "        if data[\"ohlc_df\"][\"ema_sline\"].iat[-1] < data[\"ohlc_df\"][\"ema_m2line\"].iat[-1] \\\n",
        "        and data[\"ohlc_df\"][\"ema_sline\"].iat[-2] > data[\"ohlc_df\"][\"ema_m2line\"].iat[-2]:\n",
        "            short_condition = True\n",
        "\n",
        "    return short_condition     \n",
        "\n",
        "#檢查黃金交差, ema_s向上交叉sma_s\n",
        "def check_long_condition_sma(data):\n",
        "    long_condition = False\n",
        "\n",
        "    if data[\"ohlc_df\"][\"ema_sline\"].iat[-1] > data[\"ohlc_df\"][\"sma_sline\"].iat[-1] \\\n",
        "    and data[\"ohlc_df\"][\"ema_sline\"].iat[-2] < data[\"ohlc_df\"][\"sma_sline\"].iat[-2]:\n",
        "        long_conditon = True\n",
        "\n",
        "    return long_condition\n",
        "\n",
        "#檢查死亡交差, ema_s向下交叉sma_s\n",
        "def check_short_condition_sma(data):\n",
        "    short_condition = False\n",
        "\n",
        "    if data[\"ohlc_df\"][\"ema_sline\"].iat[-1] < data[\"ohlc_df\"][\"sma_sline\"].iat[-1] \\\n",
        "        and data[\"ohlc_df\"][\"ema_sline\"].iat[-2] > data[\"ohlc_df\"][\"sma_sline\"].iat[-2]:\n",
        "        short_conditon = True\n",
        "\n",
        "    return short_condition    \n",
        "\n",
        "#畫K線\n",
        "def plotly_kline(data):\n",
        "    candlestick = px.Candlestick(x=data[\"ohlc_df\"][\"date\"],\n",
        "                    open=data[\"ohlc_df\"]['open'],\n",
        "                    high=data[\"ohlc_df\"]['high'],\n",
        "                    low=data[\"ohlc_df\"]['low'],\n",
        "                    close=data[\"ohlc_df\"]['close'],name=\"Kline\")\n",
        "\n",
        "    ema_sline = px.Scatter(x=data[\"ohlc_df\"][\"date\"], \n",
        "                    y=data[\"ohlc_df\"]['ema_sline'],\n",
        "                    line=dict(color='orange', width=1),\n",
        "                    mode='lines',name=f\"EMA{ema_s}\")\n",
        "    \n",
        "    ema_m1line = px.Scatter(x=data[\"ohlc_df\"][\"date\"], \n",
        "                    y=data[\"ohlc_df\"]['ema_m1line'],\n",
        "                    line=dict(color='green', width=1),\n",
        "                    mode='lines',name=f\"EMA{ema_m1}\")\n",
        "\n",
        "    ema_m2line = px.Scatter(x=data[\"ohlc_df\"][\"date\"], \n",
        "                    y=data[\"ohlc_df\"]['ema_m2line'],\n",
        "                    line=dict(color='blue', width=1),\n",
        "                    mode='lines',name=f\"EMA{ema_m2}\")\n",
        "\n",
        "    ema_h1line = px.Scatter(x=data[\"ohlc_df\"][\"date\"], \n",
        "                    y=data[\"ohlc_df\"]['ema_h1line'],\n",
        "                    line=dict(color='pink', width=1),\n",
        "                    mode='lines',name=f\"EMA{ema_h1}\")\n",
        "\n",
        "    ema_h2line = px.Scatter(x=data[\"ohlc_df\"][\"date\"], \n",
        "                    y=data[\"ohlc_df\"]['ema_h2line'],\n",
        "                    line=dict(color='red', width=1),\n",
        "                    mode='lines',name=f\"EMA{ema_h2}\")\n",
        "\n",
        "    sma_sline = px.Scatter(x=data[\"ohlc_df\"][\"date\"], \n",
        "                    y=data[\"ohlc_df\"]['sma_sline'],\n",
        "                    line=dict(color='yellow', width=1),\n",
        "                    mode='lines',name=f\"SMA{sma_s}\")\n",
        "    \n",
        "    sma_deduct_df=data['ohlc_df'][(0-sma_s):(0-sma_s+1)]\n",
        "    sma_deduct = px.Scatter(x=sma_deduct_df['date'],y=sma_deduct_df['close'],\n",
        "                    mode='markers',name=f\"SMA{sma_s}_deduct\",\n",
        "                    marker=(dict(symbol=\"arrow-bar-right\",size=20)))\n",
        "\n",
        "    fig = px.Figure(data=[candlestick,ema_sline,ema_m1line,ema_m2line,ema_h1line,ema_h2line,sma_sline,sma_deduct])\n",
        "    fig.update_layout(xaxis_rangeslider_visible=False)\n",
        "    fig.update_layout(title=f\"{data['symbol']} timeframe:{data['timeframe']}\",autosize=False,width=1000,height=400)\n",
        "    fig[\"layout\"][\"template\"]=plotly_theme\n",
        "\n",
        "    fig.show()\n",
        "    fig.write_image(f\"{data['symbol'].split('/')[0]}.png\")\n",
        "\n",
        "def send_to_bot_msg(tid_, msg, bot_token_):\n",
        "    url = f'https://api.telegram.org/bot{bot_token_}/sendMessage'\n",
        "    headers = {'content-type': 'application/json'}\n",
        "    data  = f'{{\"chat_id\": \"{tid_}\", \"text\": \"{msg}\", \"parse_mode\": \"HTML\", \"disable_web_page_preview\": \"true\"}}'.encode('utf-8')\n",
        "    r = requests.post(url, data=data, headers=headers, verify=False)  \n",
        "\n",
        "def send_to_bot_photo(tid_, msg, bot_token_, photo_opened):\n",
        "    url = f'https://api.telegram.org/bot{bot_token_}/sendPhoto'\n",
        "    headers = {'content-type':'multipart/form-data'}\n",
        "    data  = {\"chat_id\": tid_, \"caption\": msg, \"parse_mode\": \"HTML\", \"disable_web_page_preview\": \"true\"}\n",
        "    photo_data = {'photo': photo_opened}\n",
        "    r = requests.post(url, data=data, files=photo_data) \n",
        "    \n"
      ]
    },
    {
      "cell_type": "markdown",
      "metadata": {
        "id": "F6n6jKGbY-ar"
      },
      "source": [
        "# 如何建立telegram bot頻道\n",
        "1.找BotFather建立機器人,取得token. 請參考[Day 16-開始製作Telegram聊天機器人！](https://ithelp.ithome.com.tw/articles/10244411)\n",
        "\n",
        "2.建立一個頻道,並把機器人加進去,取得chat_id.每一個對話, 群組, 頻道都是一個chat_id, 請參考[取得chat_id](http://blog.3dgowl.com/telegram-telegram%E4%BA%94-%E5%8F%96%E5%BE%97-chat-id/)\n",
        "\n",
        "3.把token 和chat_id 放到底下程式碼中. 再把最後一行開頭的#號刪除\n",
        "`send_to_bot_photo(tid_=chat_id, msg=msg, bot_token_=bot_token, photo_opened=open(f\"{symbol_name}.png\", \"rb\"))`\n",
        "\n",
        "4.下載這份程式為*.ipynb檔案.\n",
        "\n",
        "5.到deepnote.com建立帳號,新增一個project ,把*,ipynb上傳. \n",
        "\n",
        "6.按Run notebook可以手動執行, 按右方小鍵頭可以排程.timeframe 1h就每小時跑，1h以上就依你的時框去排程, 如果timeframe 1d 排每小時跑, 應該會一直收到重覆訊息.\n",
        "\n",
        "\n",
        "# 如何改成ema向上交叉sma\n",
        "請把這兩行的#號掉換,#號是注釋,不會執行\n",
        "```\n",
        "    #is_long = check_long_condition_ema(ema_data)\n",
        "    is_long = check_long_condition_sma(ema_data)\n",
        "```\n",
        "\n",
        "\n"
      ]
    },
    {
      "cell_type": "code",
      "execution_count": 24,
      "metadata": {
        "id": "We0ohj0zWs-g"
      },
      "outputs": [
        {
          "name": "stdout",
          "output_type": "stream",
          "text": [
            "💰💰💰 1337/再生-KY is Golden Cross!!\n"
          ]
        },
        {
          "ename": "ValueError",
          "evalue": "Mime type rendering requires nbformat>=4.2.0 but it is not installed",
          "output_type": "error",
          "traceback": [
            "\u001b[1;31m---------------------------------------------------------------------------\u001b[0m",
            "\u001b[1;31mValueError\u001b[0m                                Traceback (most recent call last)",
            "\u001b[1;32mc:\\Users\\Neoxlarge\\Desktop\\googledrivesync\\VSCode\\goldencross\\GoldenCross\\vegas_ema_v0_4.ipynb Cell 16\u001b[0m in \u001b[0;36m<cell line: 5>\u001b[1;34m()\u001b[0m\n\u001b[0;32m     <a href='vscode-notebook-cell:/c%3A/Users/Neoxlarge/Desktop/googledrivesync/VSCode/goldencross/GoldenCross/vegas_ema_v0_4.ipynb#X15sZmlsZQ%3D%3D?line=18'>19</a>\u001b[0m msg \u001b[39m=\u001b[39m \u001b[39mf\u001b[39m\u001b[39m\"\u001b[39m\u001b[39m💰💰💰 \u001b[39m\u001b[39m{\u001b[39;00msymbol\u001b[39m}\u001b[39;00m\u001b[39m is Golden Cross!!\u001b[39m\u001b[39m\"\u001b[39m\n\u001b[0;32m     <a href='vscode-notebook-cell:/c%3A/Users/Neoxlarge/Desktop/googledrivesync/VSCode/goldencross/GoldenCross/vegas_ema_v0_4.ipynb#X15sZmlsZQ%3D%3D?line=19'>20</a>\u001b[0m \u001b[39mprint\u001b[39m(msg)\n\u001b[1;32m---> <a href='vscode-notebook-cell:/c%3A/Users/Neoxlarge/Desktop/googledrivesync/VSCode/goldencross/GoldenCross/vegas_ema_v0_4.ipynb#X15sZmlsZQ%3D%3D?line=20'>21</a>\u001b[0m plotly_kline(ema_data)    \n\u001b[0;32m     <a href='vscode-notebook-cell:/c%3A/Users/Neoxlarge/Desktop/googledrivesync/VSCode/goldencross/GoldenCross/vegas_ema_v0_4.ipynb#X15sZmlsZQ%3D%3D?line=21'>22</a>\u001b[0m \u001b[39m#send photo\u001b[39;00m\n\u001b[0;32m     <a href='vscode-notebook-cell:/c%3A/Users/Neoxlarge/Desktop/googledrivesync/VSCode/goldencross/GoldenCross/vegas_ema_v0_4.ipynb#X15sZmlsZQ%3D%3D?line=22'>23</a>\u001b[0m send_to_bot_photo(tid_\u001b[39m=\u001b[39mchat_id, msg\u001b[39m=\u001b[39mmsg, bot_token_\u001b[39m=\u001b[39mbot_token, photo_opened\u001b[39m=\u001b[39m\u001b[39mopen\u001b[39m(\u001b[39mf\u001b[39m\u001b[39m\"\u001b[39m\u001b[39m{\u001b[39;00msymbol_name\u001b[39m}\u001b[39;00m\u001b[39m.png\u001b[39m\u001b[39m\"\u001b[39m, \u001b[39m\"\u001b[39m\u001b[39mrb\u001b[39m\u001b[39m\"\u001b[39m))\n",
            "\u001b[1;32mc:\\Users\\Neoxlarge\\Desktop\\googledrivesync\\VSCode\\goldencross\\GoldenCross\\vegas_ema_v0_4.ipynb Cell 16\u001b[0m in \u001b[0;36mplotly_kline\u001b[1;34m(data)\u001b[0m\n\u001b[0;32m    <a href='vscode-notebook-cell:/c%3A/Users/Neoxlarge/Desktop/googledrivesync/VSCode/goldencross/GoldenCross/vegas_ema_v0_4.ipynb#X15sZmlsZQ%3D%3D?line=168'>169</a>\u001b[0m fig\u001b[39m.\u001b[39mupdate_layout(title\u001b[39m=\u001b[39m\u001b[39mf\u001b[39m\u001b[39m\"\u001b[39m\u001b[39m{\u001b[39;00mdata[\u001b[39m'\u001b[39m\u001b[39msymbol\u001b[39m\u001b[39m'\u001b[39m]\u001b[39m}\u001b[39;00m\u001b[39m timeframe:\u001b[39m\u001b[39m{\u001b[39;00mdata[\u001b[39m'\u001b[39m\u001b[39mtimeframe\u001b[39m\u001b[39m'\u001b[39m]\u001b[39m}\u001b[39;00m\u001b[39m\"\u001b[39m,autosize\u001b[39m=\u001b[39m\u001b[39mFalse\u001b[39;00m,width\u001b[39m=\u001b[39m\u001b[39m1000\u001b[39m,height\u001b[39m=\u001b[39m\u001b[39m400\u001b[39m)\n\u001b[0;32m    <a href='vscode-notebook-cell:/c%3A/Users/Neoxlarge/Desktop/googledrivesync/VSCode/goldencross/GoldenCross/vegas_ema_v0_4.ipynb#X15sZmlsZQ%3D%3D?line=169'>170</a>\u001b[0m fig[\u001b[39m\"\u001b[39m\u001b[39mlayout\u001b[39m\u001b[39m\"\u001b[39m][\u001b[39m\"\u001b[39m\u001b[39mtemplate\u001b[39m\u001b[39m\"\u001b[39m]\u001b[39m=\u001b[39mplotly_theme\n\u001b[1;32m--> <a href='vscode-notebook-cell:/c%3A/Users/Neoxlarge/Desktop/googledrivesync/VSCode/goldencross/GoldenCross/vegas_ema_v0_4.ipynb#X15sZmlsZQ%3D%3D?line=171'>172</a>\u001b[0m fig\u001b[39m.\u001b[39;49mshow()\n\u001b[0;32m    <a href='vscode-notebook-cell:/c%3A/Users/Neoxlarge/Desktop/googledrivesync/VSCode/goldencross/GoldenCross/vegas_ema_v0_4.ipynb#X15sZmlsZQ%3D%3D?line=172'>173</a>\u001b[0m fig\u001b[39m.\u001b[39mwrite_image(\u001b[39mf\u001b[39m\u001b[39m\"\u001b[39m\u001b[39m{\u001b[39;00mdata[\u001b[39m'\u001b[39m\u001b[39msymbol\u001b[39m\u001b[39m'\u001b[39m]\u001b[39m.\u001b[39msplit(\u001b[39m'\u001b[39m\u001b[39m/\u001b[39m\u001b[39m'\u001b[39m)[\u001b[39m0\u001b[39m]\u001b[39m}\u001b[39;00m\u001b[39m.png\u001b[39m\u001b[39m\"\u001b[39m)\n",
            "File \u001b[1;32mc:\\Users\\Neoxlarge\\AppData\\Local\\Programs\\Python\\Python310\\lib\\site-packages\\plotly\\basedatatypes.py:3398\u001b[0m, in \u001b[0;36mBaseFigure.show\u001b[1;34m(self, *args, **kwargs)\u001b[0m\n\u001b[0;32m   3365\u001b[0m \u001b[39m\"\"\"\u001b[39;00m\n\u001b[0;32m   3366\u001b[0m \u001b[39mShow a figure using either the default renderer(s) or the renderer(s)\u001b[39;00m\n\u001b[0;32m   3367\u001b[0m \u001b[39mspecified by the renderer argument\u001b[39;00m\n\u001b[1;32m   (...)\u001b[0m\n\u001b[0;32m   3394\u001b[0m \u001b[39mNone\u001b[39;00m\n\u001b[0;32m   3395\u001b[0m \u001b[39m\"\"\"\u001b[39;00m\n\u001b[0;32m   3396\u001b[0m \u001b[39mimport\u001b[39;00m \u001b[39mplotly\u001b[39;00m\u001b[39m.\u001b[39;00m\u001b[39mio\u001b[39;00m \u001b[39mas\u001b[39;00m \u001b[39mpio\u001b[39;00m\n\u001b[1;32m-> 3398\u001b[0m \u001b[39mreturn\u001b[39;00m pio\u001b[39m.\u001b[39mshow(\u001b[39mself\u001b[39m, \u001b[39m*\u001b[39margs, \u001b[39m*\u001b[39m\u001b[39m*\u001b[39mkwargs)\n",
            "File \u001b[1;32mc:\\Users\\Neoxlarge\\AppData\\Local\\Programs\\Python\\Python310\\lib\\site-packages\\plotly\\io\\_renderers.py:396\u001b[0m, in \u001b[0;36mshow\u001b[1;34m(fig, renderer, validate, **kwargs)\u001b[0m\n\u001b[0;32m    391\u001b[0m         \u001b[39mraise\u001b[39;00m \u001b[39mValueError\u001b[39;00m(\n\u001b[0;32m    392\u001b[0m             \u001b[39m\"\u001b[39m\u001b[39mMime type rendering requires ipython but it is not installed\u001b[39m\u001b[39m\"\u001b[39m\n\u001b[0;32m    393\u001b[0m         )\n\u001b[0;32m    395\u001b[0m     \u001b[39mif\u001b[39;00m \u001b[39mnot\u001b[39;00m nbformat \u001b[39mor\u001b[39;00m LooseVersion(nbformat\u001b[39m.\u001b[39m__version__) \u001b[39m<\u001b[39m LooseVersion(\u001b[39m\"\u001b[39m\u001b[39m4.2.0\u001b[39m\u001b[39m\"\u001b[39m):\n\u001b[1;32m--> 396\u001b[0m         \u001b[39mraise\u001b[39;00m \u001b[39mValueError\u001b[39;00m(\n\u001b[0;32m    397\u001b[0m             \u001b[39m\"\u001b[39m\u001b[39mMime type rendering requires nbformat>=4.2.0 but it is not installed\u001b[39m\u001b[39m\"\u001b[39m\n\u001b[0;32m    398\u001b[0m         )\n\u001b[0;32m    400\u001b[0m     ipython_display\u001b[39m.\u001b[39mdisplay(bundle, raw\u001b[39m=\u001b[39m\u001b[39mTrue\u001b[39;00m)\n\u001b[0;32m    402\u001b[0m \u001b[39m# external renderers\u001b[39;00m\n",
            "\u001b[1;31mValueError\u001b[0m: Mime type rendering requires nbformat>=4.2.0 but it is not installed"
          ]
        }
      ],
      "source": [
        "#start\n",
        "\n",
        "symbol_list = twstock_symbol_list\n",
        "\n",
        "for symbol in symbol_list:\n",
        "    #ema_data = get_ohlc_data(symbol,timeframe=t_frame)\n",
        "    print(symbol, end=\"\")\n",
        "    ema_data = get_twstock_ohlc_data(symbol)\n",
        "    is_long = check_long_condition_ema(ema_data)\n",
        "    #is_long = check_long_condition_sma(ema_data)\n",
        "\n",
        "    is_short = check_short_condition_ema(ema_data)\n",
        "    #is_short = check_short_condition_sma(ema_data)\n",
        "\n",
        "    print(\"\\r\",end=\"\")\n",
        "    symbol_name = symbol.split(\"/\")[0]\n",
        "\n",
        "    if is_long == True:\n",
        "        msg = f\"💰💰💰 {symbol} is Golden Cross!!\"\n",
        "        print(msg)\n",
        "        plotly_kline(ema_data)    \n",
        "        #send photo\n",
        "        send_to_bot_photo(tid_=chat_id, msg=msg, bot_token_=bot_token, photo_opened=open(f\"{symbol_name}.png\", \"rb\"))\n",
        "\n",
        "\n",
        "    elif is_short == True:\n",
        "        msg = f\"☠️☠️☠️ {symbol} is Dead Cross!!\"\n",
        "        print(msg)\n",
        "        plotly_kline(ema_data)    \n",
        "        #send photo\n",
        "        send_to_bot_photo(tid_=chat_id, msg=msg, bot_token_=bot_token, photo_opened=open(f\"{symbol_name}.png\", \"rb\"))"
      ]
    }
  ],
  "metadata": {
    "colab": {
      "authorship_tag": "ABX9TyOxpMLWyxqU8WWDyJyleWP/",
      "collapsed_sections": [],
      "include_colab_link": true,
      "name": "vegas ema  v0.3",
      "provenance": []
    },
    "kernelspec": {
      "display_name": "Python 3.10.4 64-bit",
      "language": "python",
      "name": "python3"
    },
    "language_info": {
      "codemirror_mode": {
        "name": "ipython",
        "version": 3
      },
      "file_extension": ".py",
      "mimetype": "text/x-python",
      "name": "python",
      "nbconvert_exporter": "python",
      "pygments_lexer": "ipython3",
      "version": "3.10.4"
    },
    "vscode": {
      "interpreter": {
        "hash": "916dbcbb3f70747c44a77c7bcd40155683ae19c65e1c03b4aa3499c5328201f1"
      }
    }
  },
  "nbformat": 4,
  "nbformat_minor": 0
}
