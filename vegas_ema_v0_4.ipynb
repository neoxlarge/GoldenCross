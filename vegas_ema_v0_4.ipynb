{
  "cells": [
    {
      "cell_type": "markdown",
      "metadata": {
        "colab_type": "text",
        "id": "view-in-github"
      },
      "source": [
        "<a href=\"https://colab.research.google.com/github/neoxlarge/GoldenCross/blob/%E5%8F%B0%E8%82%A1/vegas_ema_v0_3.ipynb\" target=\"_parent\"><img src=\"https://colab.research.google.com/assets/colab-badge.svg\" alt=\"Open In Colab\"/></a>"
      ]
    },
    {
      "cell_type": "markdown",
      "metadata": {
        "id": "IfCiq2voE4TZ"
      },
      "source": [
        "\n",
        "\n",
        ">\n",
        "1.   請自行儲存復本修改\n",
        "2.   按\"執行階段\"/\"全部執行\"\n",
        "3.   或者每格順序執行\n",
        "4.   ema,timeframe參數可自行修改\n",
        "5.   抓取FTX全部USD交易對,再檢查在設定的timeframe是否出現黃金交叉,再畫出線圖.\n",
        "6.   可以自行修改放到Deepnote跑telegram bot,bot token 和　chat id,請自行google. 並把最後一行#send_to_bot_photo..., 的#號刪掉就可以跑telegram bot了.\n",
        "7.    測試用的telegram channel: https://t.me/neoxbot_test       \n",
        "\n",
        "\n",
        "\n"
      ]
    },
    {
      "cell_type": "code",
      "execution_count": 2,
      "metadata": {
        "id": "4DJnTGymVnDU"
      },
      "outputs": [],
      "source": [
        "#@title User Setting { display-mode: \"both\" }\n",
        "\n",
        "#ema setting\n",
        "ema_s = 12 #@param {type:\"integer\"}\n",
        "ema_m1 = 55 #@param {type:\"integer\"}\n",
        "ema_m2 = 76 #@param {type:\"integer\"}\n",
        "ema_h1 = 144 #@param {type:\"integer\"}\n",
        "ema_h2 = 169 #@param {type:\"integer\"}\n",
        "sma_s = 20 #@param {type:\"integer\"}\n",
        "\n",
        "\n",
        "#ftx supprted timeframe ['15s', '1m', '5m', '15m', '1h', '4h', '1d', '3d', '1w', '2w', '1M']\n",
        "#timeframe\n",
        "t_frame = \"1h\" #@param ['1h', '4h', '1d', '3d']\n",
        "\n",
        "#線圖的佈景 https://plotly.com/python/templates/\n",
        "plotly_theme = \"plotly_dark\" #@param [\"plotly_dark\", \"plotly_white\", \"plotly\", \"ggplot2\", \"seaborn\", \"simple_white\", \"none\"]\n",
        "\n",
        "#@markdown Telegram bot setting\n",
        "bot_token = '' #@param {type:\"string\"}\n",
        "chat_id = '' #@param {type:\"string\"}\n"
      ]
    },
    {
      "cell_type": "markdown",
      "metadata": {
        "id": "t45WGNjDJFIh"
      },
      "source": [
        "Deepnote 無法安裝talib-binance, 需要特別的安裝方式.參考[用 Python 快速計算 158 種技術指標](https://medium.com/ai%E8%82%A1%E4%BB%94/%E7%94%A8-python-%E5%BF%AB%E9%80%9F%E8%A8%88%E7%AE%97-158-%E7%A8%AE%E6%8A%80%E8%A1%93%E6%8C%87%E6%A8%99-26f9579b8f3a)\n",
        "\n"
      ]
    },
    {
      "cell_type": "code",
      "execution_count": 12,
      "metadata": {},
      "outputs": [],
      "source": [
        "import talib"
      ]
    },
    {
      "cell_type": "code",
      "execution_count": 27,
      "metadata": {
        "colab": {
          "background_save": true
        },
        "id": "ScZfXGzVV1u-"
      },
      "outputs": [
        {
          "name": "stderr",
          "output_type": "stream",
          "text": [
            "'pip' ���O�����Υ~���R�O�B�i���檺�{���Χ妸�ɡC\n"
          ]
        }
      ],
      "source": [
        "import os\n",
        "\n",
        "if os.name == \"posix\":\n",
        "    !rm -f *.png\n",
        "\n",
        "#安裝套件\n",
        "import os\n",
        "\n",
        "!pip install jedi\n",
        "\n",
        "try:\n",
        "    import kaleido\n",
        "except ModuleNotFoundError as e:\n",
        "    pass\n",
        "    !pip install -U kaleido    \n",
        "\n",
        "try:\n",
        "    import talib\n",
        "except ModuleNotFoundError as e:\n",
        "    if os.path.exists(\"./talib\"):\n",
        "        %cd ta-lib\n",
        "    else:    \n",
        "        !wget http://prdownloads.sourceforge.net/ta-lib/ta-lib-0.4.0-src.tar.gz\n",
        "        !tar -xzvf ta-lib-0.4.0-src.tar.gz\n",
        "        %cd ta-lib\n",
        "    !./configure --prefix=/usr\n",
        "    !make\n",
        "    !make install\n",
        "    !pip install Ta-Lib\n",
        "    %cd ..\n",
        "    !rm -f ta-lib-0.4.0-src.tar.gz   \n",
        "    !rm -rf ta-lib   \n",
        "\n",
        "try:\n",
        "    import ccxt\n",
        "except ModuleNotFoundError as e:\n",
        "    pass\n",
        "    #!pip install ccxt                    \n",
        "\n"
      ]
    },
    {
      "cell_type": "code",
      "execution_count": 36,
      "metadata": {
        "colab": {
          "background_save": true
        },
        "id": "InATMY7-DcG9"
      },
      "outputs": [],
      "source": [
        "#載入模組\n",
        "\n",
        "import talib\n",
        "import requests\n",
        "import pandas as pd\n",
        "import numpy as np\n",
        "import datetime as dt\n",
        "import time\n",
        "import ccxt\n",
        "import plotly.graph_objects as px\n"
      ]
    },
    {
      "cell_type": "code",
      "execution_count": 37,
      "metadata": {
        "colab": {
          "background_save": true
        },
        "id": "o3ZyKUEgV_zM"
      },
      "outputs": [],
      "source": [
        "#crypto\n",
        "#獲取FTX的現貨/USD交易對\n",
        "exchange = ccxt.ftx()\n",
        "exchange.load_markets()\n",
        "symbol_list = set()\n",
        "ex_symbol_list = set()\n",
        "#排除底下字串\n",
        "ex_string=(\"USD:USD\",\"BULL\",\"BEAR\",\"HALF\",\"HEDGE\",\"JPY\",\"EUR\",\"TRYB\",\"AUD\",\"/BTC\",\"/DOGE\",\"/USDT\",\"GBP\",\"HKD\",\"ZAR\",\"CAD\",\"BRZ\",\"MXN\",\"ARS\",\"DAI\")\n",
        "for i in exchange.symbols:\n",
        "    for j in ex_string:\n",
        "        if i.find(j) != -1:\n",
        "            ex_symbol_list.add(i)\n",
        "\n",
        "crypto_symbol_list = set(exchange.symbols) - ex_symbol_list #set差集運算\n",
        "\n",
        "#print(len(symbol_list))\n",
        "#print(symbol_list)\n",
        "     "
      ]
    },
    {
      "cell_type": "code",
      "execution_count": 38,
      "metadata": {
        "colab": {
          "background_save": true
        },
        "id": "DdZdeNRxcmbU"
      },
      "outputs": [],
      "source": [
        "#crypto\n",
        "#自定義交易對列表 2022/08/26\n",
        "#如果要使用自定的交易對,請把symbol_inFTX 改成 symbol_list.\n",
        "crypto_symbol_inFTX = ['1INCH/USD', 'AAPL/USD', 'AAVE/USD', 'ABNB/USD', 'ACB/USD', 'AGLD/USD', 'AKRO/USD', 'ALCX/USD',\n",
        "        'ALEPH/USD', 'ALGO/USD', 'ALICE/USD', 'ALPHA/USD', 'AMC Entertainment Holdings/USD',\n",
        "        'AMD/USD', 'AMPL/USD', 'AMZN/USD', 'ANC/USD', 'APE/USD', 'APHA/USD', 'ARKK/USD',\n",
        "        'ASD/USD', 'ATLAS/USD', 'ATOM/USD', 'AURY/USD', 'AVAX/USD', 'AXS/USD', 'BABA/USD',\n",
        "        'BADGER/USD', 'BAL/USD', 'BAND/USD', 'BAO/USD', 'BAR/USD', 'BAT/USD', 'BB/USD',\n",
        "        'BCH/USD', 'BICO/USD', 'BILI/USD', 'BIT/USD', 'BITO/USD', 'BITW/USD', 'BLT/USD',\n",
        "        'BNB/USD', 'BNT/USD', 'BNTX/USD', 'BOBA/USD', 'BTC/USD', 'BTT/USD', 'BVOL/USD',\n",
        "        'BYND/USD', 'C98/USD', 'CEL/USD', 'CGC/USD', 'CHR/USD', 'CHZ/USD', 'CITY/USD',\n",
        "        'CLV/USD', 'COIN/USD', 'COMP/USD', 'CONV/USD', 'COPE/USD', 'CQT/USD', 'CREAM/USD',\n",
        "        'CRO/USD', 'CRON/USD', 'CRV/USD', 'CTX/USD', 'CUSDT/USD', 'CVC/USD', 'CVX/USD',\n",
        "        'DAWN/USD', 'DENT/USD', 'DFL/USD', 'DKNG/USD', 'DMG/USD', 'DODO/USD', 'DOGE/USD',\n",
        "        'DOT/USD', 'DYDX/USD', 'EDEN/USD', 'EMB/USD', 'ENJ/USD', 'ENS/USD', 'ETH/USD',\n",
        "        'ETHE/USD', 'FB/USD', 'FIDA/USD', 'FRONT/USD', 'FTM/USD', 'FTT/USD', 'FXS/USD',\n",
        "        'GAL/USD', 'GALA/USD', 'GALFAN/USD', 'GARI/USD', 'GBTC/USD', 'GDX/USD', 'GDXJ/USD',\n",
        "        'GENE/USD', 'GLD/USD', 'GLXY/USD', 'GME/USD', 'GMT/USD', 'GODS/USD', 'GOG/USD',\n",
        "        'GOOGL/USD', 'GRT/USD', 'GST/USD', 'GT/USD', 'HGET/USD', 'HMT/USD', 'HNT/USD',\n",
        "        'HOLY/USD', 'HOOD/USD', 'HT/USD', 'HUM/USD', 'HXRO/USD', 'IBVOL/USD', 'IMX/USD',\n",
        "        'INDI/USD', 'INTER/USD', 'IP3/USD', 'JET/USD', 'JOE/USD', 'JST/USD', 'KBTT/USD',\n",
        "        'KIN/USD', 'KNC/USD', 'KSHIB/USD', 'KSOS/USD', 'LDO/USD', 'LEO/USD', 'LINA/USD',\n",
        "        'LINK/USD', 'LOOKS/USD', 'LRC/USD', 'LTC/USD', 'LUA/USD', 'MANA/USD', 'MAPS/USD',\n",
        "        'MATH/USD', 'MATIC/USD', 'MBS/USD', 'MCB/USD', 'MEDIA/USD', 'MER/USD', 'MKR/USD',\n",
        "        'MNGO/USD', 'MOB/USD', 'MRNA/USD', 'MSOL/USD', 'MSTR/USD', 'MTA/USD', 'MTL/USD',\n",
        "        'NEAR/USD', 'NEXO/USD', 'NFLX/USD', 'NIO/USD', 'NOK/USD', 'NVDA/USD', 'OKB/USD',\n",
        "        'OMG/USD', 'ORBS/USD', 'ORCA/USD', 'OXY/USD', 'PAXG/USD', 'PENN/USD', 'PEOPLE/USD',\n",
        "        'PERP/USD', 'PFE/USD', 'POLIS/USD', 'PORT/USD', 'PRISM/USD', 'PROM/USD', 'PSG/USD',\n",
        "        'PSY/USD', 'PTU/USD', 'PUNDIX/USD', 'PYPL/USD', 'QI/USD', 'RAY/USD', 'REAL/USD',\n",
        "        'REEF/USD', 'REN/USD', 'RNDR/USD', 'ROOK/USD', 'RSR/USD', 'SAND/USD', 'SECO/USD',\n",
        "        'SHIB/USD', 'SKL/USD', 'SLND/USD', 'SLP/USD', 'SLRS/USD', 'SLV/USD', 'SNX/USD',\n",
        "        'SNY/USD', 'SOL/USD', 'SOS/USD', 'SPA/USD', 'SPELL/USD', 'SPY/USD', 'SQ/USD',\n",
        "        'SRM/USD', 'STEP/USD', 'STETH/USD', 'STG/USD', 'STMX/USD', 'STORJ/USD', 'STSOL/USD',\n",
        "        'SUN/USD', 'SUSHI/USD', 'SXP/USD', 'StarLaunch/USD', 'TLM/USD', 'TLRY/USD', 'TOMO/USD',\n",
        "        'TONCOIN/USD', 'TRU/USD', 'TRX/USD', 'TSLA/USD', 'TSM/USD', 'TULIP/USD', 'TWTR/USD',\n",
        "        'UBER/USD', 'UBXT/USD', 'UMEE/USD', 'UNI/USD', 'USDT/USD', 'USO/USD', 'VGX/USD',\n",
        "        'WAVES/USD', 'WBTC/USD', 'WtFLOW/USD', 'WNDR/USD', 'WRX/USD', 'XAUT/USD', 'XRP/USD',\n",
        "        'YFI/USD', 'YFII/USD', 'YGG/USD', 'ZM/USD', 'ZRX/USD']\n",
        " "
      ]
    },
    {
      "cell_type": "code",
      "execution_count": 48,
      "metadata": {
        "id": "2cyB5B4_G8Xl"
      },
      "outputs": [
        {
          "name": "stderr",
          "output_type": "stream",
          "text": [
            "'pip' ���O�����Υ~���R�O�B�i���檺�{���Χ妸�ɡC\n"
          ]
        }
      ],
      "source": [
        "#tw stock\n",
        "#get 股票代号\n",
        "!pip install twstock\n",
        "\n",
        "import twstock\n",
        "\n",
        "twstock.__update_codes()\n",
        "\n",
        "stock_list = twstock.twse\n",
        "twstock_symbol_list = []\n",
        "\n",
        "for i in stock_list:\n",
        "    if stock_list[i][0] in ('ETF','股票'):\n",
        "        twstock_symbol_list.append(f\"{i}/{stock_list[i][2]}\") "
      ]
    },
    {
      "cell_type": "markdown",
      "metadata": {
        "id": "jDafdQSfs5UG"
      },
      "source": [
        "plotly畫K線\n",
        "\n",
        "telegram bot sendphoto\n",
        "[telegram api sendphoto](https://core.telegram.org/bots/api#sendphoto)\n",
        "\n",
        "[code sample](https://stackoverflow.com/questions/36778321/how-to-send-photo-on-telegram-bot)"
      ]
    },
    {
      "cell_type": "code",
      "execution_count": 51,
      "metadata": {
        "colab": {
          "background_save": true
        },
        "id": "ApZv5NOLWhJx"
      },
      "outputs": [],
      "source": [
        "#define function\n",
        "#\n",
        "#get ohlc_data\n",
        "def get_crypto_ohlc_data(symbol, timeframe=\"1h\"):\n",
        "    ohlc_data = exchange.fetch_ohlcv(symbol,timeframe=timeframe,limit=400)\n",
        "    \n",
        "    for i in ohlc_data:\n",
        "        i[0] = dt.datetime.fromtimestamp(i[0]/1000)\n",
        "\n",
        "    ohlc_df = pd.DataFrame(ohlc_data,columns=[\"date\",\"open\",\"high\",\"low\",\"close\",\"volume\"]) \n",
        "    \n",
        "    ohlc_df.date = pd.to_datetime(ohlc_df.date)\n",
        "    \n",
        "    ema_sline = talib.EMA(ohlc_df[\"close\"],timeperiod=ema_s)\n",
        "    ema_m1line = talib.EMA(ohlc_df[\"close\"],timeperiod=ema_m1)\n",
        "    ema_m2line = talib.EMA(ohlc_df[\"close\"],timeperiod=ema_m2)\n",
        "    ema_h1line = talib.EMA(ohlc_df[\"close\"],timeperiod=ema_h1)\n",
        "    ema_h2line = talib.EMA(ohlc_df[\"close\"],timeperiod=ema_h2)\n",
        "    sma_sline = talib.SMA(ohlc_df[\"close\"],timeperiod=sma_s)\n",
        "\n",
        "    ohlc_df['ema_sline'] = ema_sline\n",
        "    ohlc_df['ema_m1line'] = ema_m1line\n",
        "    ohlc_df['ema_m2line'] = ema_m2line\n",
        "    ohlc_df['ema_h1line'] = ema_h1line\n",
        "    ohlc_df['ema_h2line'] = ema_h2line\n",
        "    ohlc_df['sma_sline'] = sma_sline\n",
        "\n",
        "    data = {\n",
        "        'symbol' : symbol,\n",
        "        'ohlc_df' : ohlc_df.tail(150),\n",
        "        'timeframe' : timeframe,\n",
        "        'market' : \"crypto\"\n",
        "    }\n",
        "    return data\n",
        "\n",
        "def get_twstock_ohlc_data(symbol,daysago=200) :\n",
        "    \n",
        "    #預設台股掀200天之前的資料,抓太多會限制\n",
        "    now = dt.datetime.now()\n",
        "    date_ago = now - dt.timedelta(days=daysago)\n",
        "    \n",
        "    #symbol \"2357/華碩\"\n",
        "    stock = twstock.Stock(symbol.split(\"/\")[0])\n",
        "    time.sleep(10)\n",
        "    \n",
        "    stock.fetch_from(int(date_ago.strftime(\"%Y\")),int(date_ago.strftime(\"%m\")))\n",
        "\n",
        "    col= ['date','open','high','low','close','volume']\n",
        "    ohlc_list = []\n",
        "\n",
        "    for i in range(len(stock.date)):\n",
        "        ohlc_list.append((stock.date[i],stock.open[i],stock.high[i],stock.low[i],stock.close[i],stock.capacity[i]))\n",
        "\n",
        "    ohlc_df = pd.DataFrame(ohlc_list,columns=col)\n",
        "\n",
        "    ema_sline = talib.EMA(ohlc_df[\"close\"],timeperiod=ema_s)\n",
        "    ema_m1line = talib.EMA(ohlc_df[\"close\"],timeperiod=ema_m1)\n",
        "    ema_m2line = talib.EMA(ohlc_df[\"close\"],timeperiod=ema_m2)\n",
        "    ema_h1line = talib.EMA(ohlc_df[\"close\"],timeperiod=ema_h1)\n",
        "    ema_h2line = talib.EMA(ohlc_df[\"close\"],timeperiod=ema_h2)    \n",
        "    sma_sline = talib.SMA(ohlc_df[\"close\"],timeperiod=sma_s)\n",
        "\n",
        "    ohlc_df['ema_sline'] = ema_sline\n",
        "    ohlc_df['ema_m1line'] = ema_m1line\n",
        "    ohlc_df['ema_m2line'] = ema_m2line\n",
        "    ohlc_df['ema_h1line'] = ema_h1line\n",
        "    ohlc_df['ema_h2line'] = ema_h2line    \n",
        "    ohlc_df['sma_sline'] = sma_sline\n",
        "\n",
        "    data = {\n",
        "    'market' : \"twstock\",    \n",
        "    'symbol' : symbol[0],\n",
        "    'ohlc_df' : ohlc_df,\n",
        "    'timeframe' : \"1d\"\n",
        "    }\n",
        "    return data\n",
        "\n",
        "\n",
        "#檢查黃金交差, ema_s向上交叉ema_m1或ema_m2,選最高者\n",
        "def check_long_condition_ema(data):\n",
        "    long_condition = False\n",
        "    if data[\"ohlc_df\"][\"ema_m1line\"].iat[-1] > data[\"ohlc_df\"][\"ema_m2line\"].iat[-1]:\n",
        "        if data[\"ohlc_df\"][\"ema_sline\"].iat[-1] > data[\"ohlc_df\"][\"ema_m1line\"].iat[-1] \\\n",
        "        and data[\"ohlc_df\"][\"ema_sline\"].iat[-2] < data[\"ohlc_df\"][\"ema_m1line\"].iat[-2]:\n",
        "            long_condition = True\n",
        "    else:\n",
        "        if data[\"ohlc_df\"][\"ema_sline\"].iat[-1] > data[\"ohlc_df\"][\"ema_m2line\"].iat[-1] \\\n",
        "        and data[\"ohlc_df\"][\"ema_sline\"].iat[-2] < data[\"ohlc_df\"][\"ema_m2line\"].iat[-2]:\n",
        "            long_condition = True\n",
        "\n",
        "    return long_condition     \n",
        "\n",
        "#檢查死亡交差, ema_s向下交叉ema_m1或ema_m2,選最低者\n",
        "def check_short_condition_ema(data):\n",
        "    short_condition = False\n",
        "    \n",
        "    if data[\"ohlc_df\"][\"ema_m1line\"].iat[-1] < data[\"ohlc_df\"][\"ema_m2line\"].iat[-1]:\n",
        "        if data[\"ohlc_df\"][\"ema_sline\"].iat[-1] < data[\"ohlc_df\"][\"ema_m1line\"].iat[-1] \\\n",
        "        and data[\"ohlc_df\"][\"ema_sline\"].iat[-2] > data[\"ohlc_df\"][\"ema_m1line\"].iat[-2]:\n",
        "            short_condition = True\n",
        "    else:\n",
        "        if data[\"ohlc_df\"][\"ema_sline\"].iat[-1] < data[\"ohlc_df\"][\"ema_m2line\"].iat[-1] \\\n",
        "        and data[\"ohlc_df\"][\"ema_sline\"].iat[-2] > data[\"ohlc_df\"][\"ema_m2line\"].iat[-2]:\n",
        "            short_condition = True\n",
        "\n",
        "    return short_condition     \n",
        "\n",
        "#檢查黃金交差, ema_s向上交叉sma_s\n",
        "def check_long_condition_sma(data):\n",
        "    long_condition = False\n",
        "\n",
        "    if data[\"ohlc_df\"][\"ema_sline\"].iat[-1] > data[\"ohlc_df\"][\"sma_sline\"].iat[-1] \\\n",
        "    and data[\"ohlc_df\"][\"ema_sline\"].iat[-2] < data[\"ohlc_df\"][\"sma_sline\"].iat[-2]:\n",
        "        long_conditon = True\n",
        "\n",
        "    return long_condition\n",
        "\n",
        "#檢查死亡交差, ema_s向下交叉sma_s\n",
        "def check_short_condition_sma(data):\n",
        "    short_condition = False\n",
        "\n",
        "    if data[\"ohlc_df\"][\"ema_sline\"].iat[-1] < data[\"ohlc_df\"][\"sma_sline\"].iat[-1] \\\n",
        "        and data[\"ohlc_df\"][\"ema_sline\"].iat[-2] > data[\"ohlc_df\"][\"sma_sline\"].iat[-2]:\n",
        "        short_conditon = True\n",
        "\n",
        "    return short_condition    \n",
        "\n",
        "#畫K線\n",
        "def plotly_kline(data):\n",
        "    candlestick = px.Candlestick(x=data[\"ohlc_df\"][\"date\"],\n",
        "                    open=data[\"ohlc_df\"]['open'],\n",
        "                    high=data[\"ohlc_df\"]['high'],\n",
        "                    low=data[\"ohlc_df\"]['low'],\n",
        "                    close=data[\"ohlc_df\"]['close'],name=\"Kline\")\n",
        "\n",
        "    ema_sline = px.Scatter(x=data[\"ohlc_df\"][\"date\"], \n",
        "                    y=data[\"ohlc_df\"]['ema_sline'],\n",
        "                    line=dict(color='orange', width=1),\n",
        "                    mode='lines',name=f\"EMA{ema_s}\")\n",
        "    \n",
        "    ema_m1line = px.Scatter(x=data[\"ohlc_df\"][\"date\"], \n",
        "                    y=data[\"ohlc_df\"]['ema_m1line'],\n",
        "                    line=dict(color='green', width=1),\n",
        "                    mode='lines',name=f\"EMA{ema_m1}\")\n",
        "\n",
        "    ema_m2line = px.Scatter(x=data[\"ohlc_df\"][\"date\"], \n",
        "                    y=data[\"ohlc_df\"]['ema_m2line'],\n",
        "                    line=dict(color='blue', width=1),\n",
        "                    mode='lines',name=f\"EMA{ema_m2}\")\n",
        "\n",
        "    ema_h1line = px.Scatter(x=data[\"ohlc_df\"][\"date\"], \n",
        "                    y=data[\"ohlc_df\"]['ema_h1line'],\n",
        "                    line=dict(color='pink', width=1),\n",
        "                    mode='lines',name=f\"EMA{ema_h1}\")\n",
        "\n",
        "    ema_h2line = px.Scatter(x=data[\"ohlc_df\"][\"date\"], \n",
        "                    y=data[\"ohlc_df\"]['ema_h2line'],\n",
        "                    line=dict(color='red', width=1),\n",
        "                    mode='lines',name=f\"EMA{ema_h2}\")\n",
        "\n",
        "    sma_sline = px.Scatter(x=data[\"ohlc_df\"][\"date\"], \n",
        "                    y=data[\"ohlc_df\"]['sma_sline'],\n",
        "                    line=dict(color='yellow', width=1),\n",
        "                    mode='lines',name=f\"SMA{sma_s}\")\n",
        "    \n",
        "    sma_deduct_df=data['ohlc_df'][(0-sma_s):(0-sma_s+1)]\n",
        "    sma_deduct = px.Scatter(x=sma_deduct_df['date'],y=sma_deduct_df['close'],\n",
        "                    mode='markers',name=f\"SMA{sma_s}_deduct\",\n",
        "                    marker=(dict(symbol=\"arrow-bar-right\",size=20)))\n",
        "\n",
        "    fig = px.Figure(data=[candlestick,ema_sline,ema_m1line,ema_m2line,ema_h1line,ema_h2line,sma_sline,sma_deduct])\n",
        "    fig.update_layout(xaxis_rangeslider_visible=False)\n",
        "    fig.update_layout(title=f\"{data['symbol']} timeframe:{data['timeframe']}\",autosize=False,width=1000,height=400)\n",
        "    fig[\"layout\"][\"template\"]=plotly_theme\n",
        "\n",
        "    fig.show()\n",
        "    fig.write_image(f\"{data['symbol'].split('/')[0]}.png\")\n",
        "\n",
        "def send_to_bot_msg(tid_, msg, bot_token_):\n",
        "    url = f'https://api.telegram.org/bot{bot_token_}/sendMessage'\n",
        "    headers = {'content-type': 'application/json'}\n",
        "    data  = f'{{\"chat_id\": \"{tid_}\", \"text\": \"{msg}\", \"parse_mode\": \"HTML\", \"disable_web_page_preview\": \"true\"}}'.encode('utf-8')\n",
        "    r = requests.post(url, data=data, headers=headers, verify=False)  \n",
        "\n",
        "def send_to_bot_photo(tid_, msg, bot_token_, photo_opened):\n",
        "    url = f'https://api.telegram.org/bot{bot_token_}/sendPhoto'\n",
        "    headers = {'content-type':'multipart/form-data'}\n",
        "    data  = {\"chat_id\": tid_, \"caption\": msg, \"parse_mode\": \"HTML\", \"disable_web_page_preview\": \"true\"}\n",
        "    photo_data = {'photo': photo_opened}\n",
        "    r = requests.post(url, data=data, files=photo_data) \n",
        "    \n"
      ]
    },
    {
      "cell_type": "markdown",
      "metadata": {
        "id": "F6n6jKGbY-ar"
      },
      "source": [
        "# 如何建立telegram bot頻道\n",
        "1.找BotFather建立機器人,取得token. 請參考[Day 16-開始製作Telegram聊天機器人！](https://ithelp.ithome.com.tw/articles/10244411)\n",
        "\n",
        "2.建立一個頻道,並把機器人加進去,取得chat_id.每一個對話, 群組, 頻道都是一個chat_id, 請參考[取得chat_id](http://blog.3dgowl.com/telegram-telegram%E4%BA%94-%E5%8F%96%E5%BE%97-chat-id/)\n",
        "\n",
        "3.把token 和chat_id 放到底下程式碼中. 再把最後一行開頭的#號刪除\n",
        "`send_to_bot_photo(tid_=chat_id, msg=msg, bot_token_=bot_token, photo_opened=open(f\"{symbol_name}.png\", \"rb\"))`\n",
        "\n",
        "4.下載這份程式為*.ipynb檔案.\n",
        "\n",
        "5.到deepnote.com建立帳號,新增一個project ,把*,ipynb上傳. \n",
        "\n",
        "6.按Run notebook可以手動執行, 按右方小鍵頭可以排程.timeframe 1h就每小時跑，1h以上就依你的時框去排程, 如果timeframe 1d 排每小時跑, 應該會一直收到重覆訊息.\n",
        "\n",
        "\n",
        "# 如何改成ema向上交叉sma\n",
        "請把這兩行的#號掉換,#號是注釋,不會執行\n",
        "```\n",
        "    #is_long = check_long_condition_ema(ema_data)\n",
        "    is_long = check_long_condition_sma(ema_data)\n",
        "```\n",
        "\n",
        "\n"
      ]
    },
    {
      "cell_type": "code",
      "execution_count": 52,
      "metadata": {
        "id": "We0ohj0zWs-g"
      },
      "outputs": [
        {
          "ename": "KeyboardInterrupt",
          "evalue": "",
          "output_type": "error",
          "traceback": [
            "\u001b[1;31m---------------------------------------------------------------------------\u001b[0m",
            "\u001b[1;31mConnectionRefusedError\u001b[0m                    Traceback (most recent call last)",
            "File \u001b[1;32mc:\\Users\\Neoxlarge\\AppData\\Local\\Programs\\Python\\Python310\\lib\\site-packages\\urllib3\\util\\connection.py:85\u001b[0m, in \u001b[0;36mcreate_connection\u001b[1;34m(address, timeout, source_address, socket_options)\u001b[0m\n\u001b[0;32m     84\u001b[0m     sock\u001b[39m.\u001b[39mbind(source_address)\n\u001b[1;32m---> 85\u001b[0m sock\u001b[39m.\u001b[39;49mconnect(sa)\n\u001b[0;32m     86\u001b[0m \u001b[39mreturn\u001b[39;00m sock\n",
            "\u001b[1;31mConnectionRefusedError\u001b[0m: [WinError 10061] 無法連線，因為目標電腦拒絕連線。",
            "\nDuring handling of the above exception, another exception occurred:\n",
            "\u001b[1;31mKeyboardInterrupt\u001b[0m                         Traceback (most recent call last)",
            "\u001b[1;32mc:\\Users\\Neoxlarge\\Desktop\\googledrivesync\\VSCode\\goldencross\\GoldenCross\\vegas_ema_v0_4.ipynb Cell 14\u001b[0m in \u001b[0;36m<cell line: 5>\u001b[1;34m()\u001b[0m\n\u001b[0;32m      <a href='vscode-notebook-cell:/c%3A/Users/Neoxlarge/Desktop/googledrivesync/VSCode/goldencross/GoldenCross/vegas_ema_v0_4.ipynb#X15sZmlsZQ%3D%3D?line=2'>3</a>\u001b[0m symbol_list \u001b[39m=\u001b[39m twstock_symbol_list\n\u001b[0;32m      <a href='vscode-notebook-cell:/c%3A/Users/Neoxlarge/Desktop/googledrivesync/VSCode/goldencross/GoldenCross/vegas_ema_v0_4.ipynb#X15sZmlsZQ%3D%3D?line=4'>5</a>\u001b[0m \u001b[39mfor\u001b[39;00m symbol \u001b[39min\u001b[39;00m symbol_list:\n\u001b[0;32m      <a href='vscode-notebook-cell:/c%3A/Users/Neoxlarge/Desktop/googledrivesync/VSCode/goldencross/GoldenCross/vegas_ema_v0_4.ipynb#X15sZmlsZQ%3D%3D?line=5'>6</a>\u001b[0m     \u001b[39m#ema_data = get_ohlc_data(symbol,timeframe=t_frame)\u001b[39;00m\n\u001b[1;32m----> <a href='vscode-notebook-cell:/c%3A/Users/Neoxlarge/Desktop/googledrivesync/VSCode/goldencross/GoldenCross/vegas_ema_v0_4.ipynb#X15sZmlsZQ%3D%3D?line=6'>7</a>\u001b[0m     ema_data \u001b[39m=\u001b[39m get_twstock_ohlc_data(symbol)\n\u001b[0;32m      <a href='vscode-notebook-cell:/c%3A/Users/Neoxlarge/Desktop/googledrivesync/VSCode/goldencross/GoldenCross/vegas_ema_v0_4.ipynb#X15sZmlsZQ%3D%3D?line=7'>8</a>\u001b[0m     is_long \u001b[39m=\u001b[39m check_long_condition_ema(ema_data)\n\u001b[0;32m      <a href='vscode-notebook-cell:/c%3A/Users/Neoxlarge/Desktop/googledrivesync/VSCode/goldencross/GoldenCross/vegas_ema_v0_4.ipynb#X15sZmlsZQ%3D%3D?line=8'>9</a>\u001b[0m     \u001b[39m#is_long = check_long_condition_sma(ema_data)\u001b[39;00m\n",
            "\u001b[1;32mc:\\Users\\Neoxlarge\\Desktop\\googledrivesync\\VSCode\\goldencross\\GoldenCross\\vegas_ema_v0_4.ipynb Cell 14\u001b[0m in \u001b[0;36mget_twstock_ohlc_data\u001b[1;34m(symbol, daysago)\u001b[0m\n\u001b[0;32m     <a href='vscode-notebook-cell:/c%3A/Users/Neoxlarge/Desktop/googledrivesync/VSCode/goldencross/GoldenCross/vegas_ema_v0_4.ipynb#X15sZmlsZQ%3D%3D?line=42'>43</a>\u001b[0m stock \u001b[39m=\u001b[39m twstock\u001b[39m.\u001b[39mStock(symbol\u001b[39m.\u001b[39msplit(\u001b[39m\"\u001b[39m\u001b[39m/\u001b[39m\u001b[39m\"\u001b[39m)[\u001b[39m0\u001b[39m])\n\u001b[0;32m     <a href='vscode-notebook-cell:/c%3A/Users/Neoxlarge/Desktop/googledrivesync/VSCode/goldencross/GoldenCross/vegas_ema_v0_4.ipynb#X15sZmlsZQ%3D%3D?line=43'>44</a>\u001b[0m time\u001b[39m.\u001b[39msleep(\u001b[39m10\u001b[39m)\n\u001b[1;32m---> <a href='vscode-notebook-cell:/c%3A/Users/Neoxlarge/Desktop/googledrivesync/VSCode/goldencross/GoldenCross/vegas_ema_v0_4.ipynb#X15sZmlsZQ%3D%3D?line=45'>46</a>\u001b[0m stock\u001b[39m.\u001b[39;49mfetch_from(\u001b[39mint\u001b[39;49m(date_ago\u001b[39m.\u001b[39;49mstrftime(\u001b[39m\"\u001b[39;49m\u001b[39m%\u001b[39;49m\u001b[39mY\u001b[39;49m\u001b[39m\"\u001b[39;49m)),\u001b[39mint\u001b[39;49m(date_ago\u001b[39m.\u001b[39;49mstrftime(\u001b[39m\"\u001b[39;49m\u001b[39m%\u001b[39;49m\u001b[39mm\u001b[39;49m\u001b[39m\"\u001b[39;49m)))\n\u001b[0;32m     <a href='vscode-notebook-cell:/c%3A/Users/Neoxlarge/Desktop/googledrivesync/VSCode/goldencross/GoldenCross/vegas_ema_v0_4.ipynb#X15sZmlsZQ%3D%3D?line=47'>48</a>\u001b[0m col\u001b[39m=\u001b[39m [\u001b[39m'\u001b[39m\u001b[39mdate\u001b[39m\u001b[39m'\u001b[39m,\u001b[39m'\u001b[39m\u001b[39mopen\u001b[39m\u001b[39m'\u001b[39m,\u001b[39m'\u001b[39m\u001b[39mhigh\u001b[39m\u001b[39m'\u001b[39m,\u001b[39m'\u001b[39m\u001b[39mlow\u001b[39m\u001b[39m'\u001b[39m,\u001b[39m'\u001b[39m\u001b[39mclose\u001b[39m\u001b[39m'\u001b[39m,\u001b[39m'\u001b[39m\u001b[39mvolume\u001b[39m\u001b[39m'\u001b[39m]\n\u001b[0;32m     <a href='vscode-notebook-cell:/c%3A/Users/Neoxlarge/Desktop/googledrivesync/VSCode/goldencross/GoldenCross/vegas_ema_v0_4.ipynb#X15sZmlsZQ%3D%3D?line=48'>49</a>\u001b[0m ohlc_list \u001b[39m=\u001b[39m []\n",
            "File \u001b[1;32mc:\\Users\\Neoxlarge\\AppData\\Local\\Programs\\Python\\Python310\\lib\\site-packages\\twstock\\stock.py:175\u001b[0m, in \u001b[0;36mStock.fetch_from\u001b[1;34m(self, year, month)\u001b[0m\n\u001b[0;32m    173\u001b[0m today \u001b[39m=\u001b[39m datetime\u001b[39m.\u001b[39mdatetime\u001b[39m.\u001b[39mtoday()\n\u001b[0;32m    174\u001b[0m \u001b[39mfor\u001b[39;00m year, month \u001b[39min\u001b[39;00m \u001b[39mself\u001b[39m\u001b[39m.\u001b[39m_month_year_iter(month, year, today\u001b[39m.\u001b[39mmonth, today\u001b[39m.\u001b[39myear):\n\u001b[1;32m--> 175\u001b[0m     \u001b[39mself\u001b[39m\u001b[39m.\u001b[39mraw_data\u001b[39m.\u001b[39mappend(\u001b[39mself\u001b[39;49m\u001b[39m.\u001b[39;49mfetcher\u001b[39m.\u001b[39;49mfetch(year, month, \u001b[39mself\u001b[39;49m\u001b[39m.\u001b[39;49msid))\n\u001b[0;32m    176\u001b[0m     \u001b[39mself\u001b[39m\u001b[39m.\u001b[39mdata\u001b[39m.\u001b[39mextend(\u001b[39mself\u001b[39m\u001b[39m.\u001b[39mraw_data[\u001b[39m-\u001b[39m\u001b[39m1\u001b[39m][\u001b[39m'\u001b[39m\u001b[39mdata\u001b[39m\u001b[39m'\u001b[39m])\n\u001b[0;32m    177\u001b[0m \u001b[39mreturn\u001b[39;00m \u001b[39mself\u001b[39m\u001b[39m.\u001b[39mdata\n",
            "File \u001b[1;32mc:\\Users\\Neoxlarge\\AppData\\Local\\Programs\\Python\\Python310\\lib\\site-packages\\twstock\\stock.py:58\u001b[0m, in \u001b[0;36mTWSEFetcher.fetch\u001b[1;34m(self, year, month, sid, retry)\u001b[0m\n\u001b[0;32m     56\u001b[0m params \u001b[39m=\u001b[39m {\u001b[39m'\u001b[39m\u001b[39mdate\u001b[39m\u001b[39m'\u001b[39m: \u001b[39m'\u001b[39m\u001b[39m%d\u001b[39;00m\u001b[39m%02d\u001b[39;00m\u001b[39m01\u001b[39m\u001b[39m'\u001b[39m \u001b[39m%\u001b[39m (year, month), \u001b[39m'\u001b[39m\u001b[39mstockNo\u001b[39m\u001b[39m'\u001b[39m: sid}\n\u001b[0;32m     57\u001b[0m \u001b[39mfor\u001b[39;00m retry_i \u001b[39min\u001b[39;00m \u001b[39mrange\u001b[39m(retry):\n\u001b[1;32m---> 58\u001b[0m     r \u001b[39m=\u001b[39m requests\u001b[39m.\u001b[39;49mget(\u001b[39mself\u001b[39;49m\u001b[39m.\u001b[39;49mREPORT_URL, params\u001b[39m=\u001b[39;49mparams,\n\u001b[0;32m     59\u001b[0m                      proxies\u001b[39m=\u001b[39;49mget_proxies())\n\u001b[0;32m     60\u001b[0m     \u001b[39mtry\u001b[39;00m:\n\u001b[0;32m     61\u001b[0m         data \u001b[39m=\u001b[39m r\u001b[39m.\u001b[39mjson()\n",
            "File \u001b[1;32mc:\\Users\\Neoxlarge\\AppData\\Local\\Programs\\Python\\Python310\\lib\\site-packages\\requests\\api.py:73\u001b[0m, in \u001b[0;36mget\u001b[1;34m(url, params, **kwargs)\u001b[0m\n\u001b[0;32m     62\u001b[0m \u001b[39mdef\u001b[39;00m \u001b[39mget\u001b[39m(url, params\u001b[39m=\u001b[39m\u001b[39mNone\u001b[39;00m, \u001b[39m*\u001b[39m\u001b[39m*\u001b[39mkwargs):\n\u001b[0;32m     63\u001b[0m     \u001b[39mr\u001b[39m\u001b[39m\"\"\"Sends a GET request.\u001b[39;00m\n\u001b[0;32m     64\u001b[0m \n\u001b[0;32m     65\u001b[0m \u001b[39m    :param url: URL for the new :class:`Request` object.\u001b[39;00m\n\u001b[1;32m   (...)\u001b[0m\n\u001b[0;32m     70\u001b[0m \u001b[39m    :rtype: requests.Response\u001b[39;00m\n\u001b[0;32m     71\u001b[0m \u001b[39m    \"\"\"\u001b[39;00m\n\u001b[1;32m---> 73\u001b[0m     \u001b[39mreturn\u001b[39;00m request(\u001b[39m\"\u001b[39m\u001b[39mget\u001b[39m\u001b[39m\"\u001b[39m, url, params\u001b[39m=\u001b[39mparams, \u001b[39m*\u001b[39m\u001b[39m*\u001b[39mkwargs)\n",
            "File \u001b[1;32mc:\\Users\\Neoxlarge\\AppData\\Local\\Programs\\Python\\Python310\\lib\\site-packages\\requests\\api.py:59\u001b[0m, in \u001b[0;36mrequest\u001b[1;34m(method, url, **kwargs)\u001b[0m\n\u001b[0;32m     55\u001b[0m \u001b[39m# By using the 'with' statement we are sure the session is closed, thus we\u001b[39;00m\n\u001b[0;32m     56\u001b[0m \u001b[39m# avoid leaving sockets open which can trigger a ResourceWarning in some\u001b[39;00m\n\u001b[0;32m     57\u001b[0m \u001b[39m# cases, and look like a memory leak in others.\u001b[39;00m\n\u001b[0;32m     58\u001b[0m \u001b[39mwith\u001b[39;00m sessions\u001b[39m.\u001b[39mSession() \u001b[39mas\u001b[39;00m session:\n\u001b[1;32m---> 59\u001b[0m     \u001b[39mreturn\u001b[39;00m session\u001b[39m.\u001b[39mrequest(method\u001b[39m=\u001b[39mmethod, url\u001b[39m=\u001b[39murl, \u001b[39m*\u001b[39m\u001b[39m*\u001b[39mkwargs)\n",
            "File \u001b[1;32mc:\\Users\\Neoxlarge\\AppData\\Local\\Programs\\Python\\Python310\\lib\\site-packages\\requests\\sessions.py:587\u001b[0m, in \u001b[0;36mSession.request\u001b[1;34m(self, method, url, params, data, headers, cookies, files, auth, timeout, allow_redirects, proxies, hooks, stream, verify, cert, json)\u001b[0m\n\u001b[0;32m    582\u001b[0m send_kwargs \u001b[39m=\u001b[39m {\n\u001b[0;32m    583\u001b[0m     \u001b[39m\"\u001b[39m\u001b[39mtimeout\u001b[39m\u001b[39m\"\u001b[39m: timeout,\n\u001b[0;32m    584\u001b[0m     \u001b[39m\"\u001b[39m\u001b[39mallow_redirects\u001b[39m\u001b[39m\"\u001b[39m: allow_redirects,\n\u001b[0;32m    585\u001b[0m }\n\u001b[0;32m    586\u001b[0m send_kwargs\u001b[39m.\u001b[39mupdate(settings)\n\u001b[1;32m--> 587\u001b[0m resp \u001b[39m=\u001b[39m \u001b[39mself\u001b[39m\u001b[39m.\u001b[39msend(prep, \u001b[39m*\u001b[39m\u001b[39m*\u001b[39msend_kwargs)\n\u001b[0;32m    589\u001b[0m \u001b[39mreturn\u001b[39;00m resp\n",
            "File \u001b[1;32mc:\\Users\\Neoxlarge\\AppData\\Local\\Programs\\Python\\Python310\\lib\\site-packages\\requests\\sessions.py:701\u001b[0m, in \u001b[0;36mSession.send\u001b[1;34m(self, request, **kwargs)\u001b[0m\n\u001b[0;32m    698\u001b[0m start \u001b[39m=\u001b[39m preferred_clock()\n\u001b[0;32m    700\u001b[0m \u001b[39m# Send the request\u001b[39;00m\n\u001b[1;32m--> 701\u001b[0m r \u001b[39m=\u001b[39m adapter\u001b[39m.\u001b[39msend(request, \u001b[39m*\u001b[39m\u001b[39m*\u001b[39mkwargs)\n\u001b[0;32m    703\u001b[0m \u001b[39m# Total elapsed time of the request (approximately)\u001b[39;00m\n\u001b[0;32m    704\u001b[0m elapsed \u001b[39m=\u001b[39m preferred_clock() \u001b[39m-\u001b[39m start\n",
            "File \u001b[1;32mc:\\Users\\Neoxlarge\\AppData\\Local\\Programs\\Python\\Python310\\lib\\site-packages\\requests\\adapters.py:489\u001b[0m, in \u001b[0;36mHTTPAdapter.send\u001b[1;34m(self, request, stream, timeout, verify, cert, proxies)\u001b[0m\n\u001b[0;32m    487\u001b[0m \u001b[39mtry\u001b[39;00m:\n\u001b[0;32m    488\u001b[0m     \u001b[39mif\u001b[39;00m \u001b[39mnot\u001b[39;00m chunked:\n\u001b[1;32m--> 489\u001b[0m         resp \u001b[39m=\u001b[39m conn\u001b[39m.\u001b[39;49murlopen(\n\u001b[0;32m    490\u001b[0m             method\u001b[39m=\u001b[39;49mrequest\u001b[39m.\u001b[39;49mmethod,\n\u001b[0;32m    491\u001b[0m             url\u001b[39m=\u001b[39;49murl,\n\u001b[0;32m    492\u001b[0m             body\u001b[39m=\u001b[39;49mrequest\u001b[39m.\u001b[39;49mbody,\n\u001b[0;32m    493\u001b[0m             headers\u001b[39m=\u001b[39;49mrequest\u001b[39m.\u001b[39;49mheaders,\n\u001b[0;32m    494\u001b[0m             redirect\u001b[39m=\u001b[39;49m\u001b[39mFalse\u001b[39;49;00m,\n\u001b[0;32m    495\u001b[0m             assert_same_host\u001b[39m=\u001b[39;49m\u001b[39mFalse\u001b[39;49;00m,\n\u001b[0;32m    496\u001b[0m             preload_content\u001b[39m=\u001b[39;49m\u001b[39mFalse\u001b[39;49;00m,\n\u001b[0;32m    497\u001b[0m             decode_content\u001b[39m=\u001b[39;49m\u001b[39mFalse\u001b[39;49;00m,\n\u001b[0;32m    498\u001b[0m             retries\u001b[39m=\u001b[39;49m\u001b[39mself\u001b[39;49m\u001b[39m.\u001b[39;49mmax_retries,\n\u001b[0;32m    499\u001b[0m             timeout\u001b[39m=\u001b[39;49mtimeout,\n\u001b[0;32m    500\u001b[0m         )\n\u001b[0;32m    502\u001b[0m     \u001b[39m# Send the request.\u001b[39;00m\n\u001b[0;32m    503\u001b[0m     \u001b[39melse\u001b[39;00m:\n\u001b[0;32m    504\u001b[0m         \u001b[39mif\u001b[39;00m \u001b[39mhasattr\u001b[39m(conn, \u001b[39m\"\u001b[39m\u001b[39mproxy_pool\u001b[39m\u001b[39m\"\u001b[39m):\n",
            "File \u001b[1;32mc:\\Users\\Neoxlarge\\AppData\\Local\\Programs\\Python\\Python310\\lib\\site-packages\\urllib3\\connectionpool.py:703\u001b[0m, in \u001b[0;36mHTTPConnectionPool.urlopen\u001b[1;34m(self, method, url, body, headers, retries, redirect, assert_same_host, timeout, pool_timeout, release_conn, chunked, body_pos, **response_kw)\u001b[0m\n\u001b[0;32m    700\u001b[0m     \u001b[39mself\u001b[39m\u001b[39m.\u001b[39m_prepare_proxy(conn)\n\u001b[0;32m    702\u001b[0m \u001b[39m# Make the request on the httplib connection object.\u001b[39;00m\n\u001b[1;32m--> 703\u001b[0m httplib_response \u001b[39m=\u001b[39m \u001b[39mself\u001b[39;49m\u001b[39m.\u001b[39;49m_make_request(\n\u001b[0;32m    704\u001b[0m     conn,\n\u001b[0;32m    705\u001b[0m     method,\n\u001b[0;32m    706\u001b[0m     url,\n\u001b[0;32m    707\u001b[0m     timeout\u001b[39m=\u001b[39;49mtimeout_obj,\n\u001b[0;32m    708\u001b[0m     body\u001b[39m=\u001b[39;49mbody,\n\u001b[0;32m    709\u001b[0m     headers\u001b[39m=\u001b[39;49mheaders,\n\u001b[0;32m    710\u001b[0m     chunked\u001b[39m=\u001b[39;49mchunked,\n\u001b[0;32m    711\u001b[0m )\n\u001b[0;32m    713\u001b[0m \u001b[39m# If we're going to release the connection in ``finally:``, then\u001b[39;00m\n\u001b[0;32m    714\u001b[0m \u001b[39m# the response doesn't need to know about the connection. Otherwise\u001b[39;00m\n\u001b[0;32m    715\u001b[0m \u001b[39m# it will also try to release it and we'll have a double-release\u001b[39;00m\n\u001b[0;32m    716\u001b[0m \u001b[39m# mess.\u001b[39;00m\n\u001b[0;32m    717\u001b[0m response_conn \u001b[39m=\u001b[39m conn \u001b[39mif\u001b[39;00m \u001b[39mnot\u001b[39;00m release_conn \u001b[39melse\u001b[39;00m \u001b[39mNone\u001b[39;00m\n",
            "File \u001b[1;32mc:\\Users\\Neoxlarge\\AppData\\Local\\Programs\\Python\\Python310\\lib\\site-packages\\urllib3\\connectionpool.py:398\u001b[0m, in \u001b[0;36mHTTPConnectionPool._make_request\u001b[1;34m(self, conn, method, url, timeout, chunked, **httplib_request_kw)\u001b[0m\n\u001b[0;32m    396\u001b[0m         conn\u001b[39m.\u001b[39mrequest_chunked(method, url, \u001b[39m*\u001b[39m\u001b[39m*\u001b[39mhttplib_request_kw)\n\u001b[0;32m    397\u001b[0m     \u001b[39melse\u001b[39;00m:\n\u001b[1;32m--> 398\u001b[0m         conn\u001b[39m.\u001b[39mrequest(method, url, \u001b[39m*\u001b[39m\u001b[39m*\u001b[39mhttplib_request_kw)\n\u001b[0;32m    400\u001b[0m \u001b[39m# We are swallowing BrokenPipeError (errno.EPIPE) since the server is\u001b[39;00m\n\u001b[0;32m    401\u001b[0m \u001b[39m# legitimately able to close the connection after sending a valid response.\u001b[39;00m\n\u001b[0;32m    402\u001b[0m \u001b[39m# With this behaviour, the received response is still readable.\u001b[39;00m\n\u001b[0;32m    403\u001b[0m \u001b[39mexcept\u001b[39;00m \u001b[39mBrokenPipeError\u001b[39;00m:\n\u001b[0;32m    404\u001b[0m     \u001b[39m# Python 3\u001b[39;00m\n",
            "File \u001b[1;32mc:\\Users\\Neoxlarge\\AppData\\Local\\Programs\\Python\\Python310\\lib\\site-packages\\urllib3\\connection.py:239\u001b[0m, in \u001b[0;36mHTTPConnection.request\u001b[1;34m(self, method, url, body, headers)\u001b[0m\n\u001b[0;32m    237\u001b[0m \u001b[39mif\u001b[39;00m \u001b[39m\"\u001b[39m\u001b[39muser-agent\u001b[39m\u001b[39m\"\u001b[39m \u001b[39mnot\u001b[39;00m \u001b[39min\u001b[39;00m (six\u001b[39m.\u001b[39mensure_str(k\u001b[39m.\u001b[39mlower()) \u001b[39mfor\u001b[39;00m k \u001b[39min\u001b[39;00m headers):\n\u001b[0;32m    238\u001b[0m     headers[\u001b[39m\"\u001b[39m\u001b[39mUser-Agent\u001b[39m\u001b[39m\"\u001b[39m] \u001b[39m=\u001b[39m _get_default_user_agent()\n\u001b[1;32m--> 239\u001b[0m \u001b[39msuper\u001b[39;49m(HTTPConnection, \u001b[39mself\u001b[39;49m)\u001b[39m.\u001b[39;49mrequest(method, url, body\u001b[39m=\u001b[39;49mbody, headers\u001b[39m=\u001b[39;49mheaders)\n",
            "File \u001b[1;32mc:\\Users\\Neoxlarge\\AppData\\Local\\Programs\\Python\\Python310\\lib\\http\\client.py:1282\u001b[0m, in \u001b[0;36mHTTPConnection.request\u001b[1;34m(self, method, url, body, headers, encode_chunked)\u001b[0m\n\u001b[0;32m   1279\u001b[0m \u001b[39mdef\u001b[39;00m \u001b[39mrequest\u001b[39m(\u001b[39mself\u001b[39m, method, url, body\u001b[39m=\u001b[39m\u001b[39mNone\u001b[39;00m, headers\u001b[39m=\u001b[39m{}, \u001b[39m*\u001b[39m,\n\u001b[0;32m   1280\u001b[0m             encode_chunked\u001b[39m=\u001b[39m\u001b[39mFalse\u001b[39;00m):\n\u001b[0;32m   1281\u001b[0m     \u001b[39m\"\"\"Send a complete request to the server.\"\"\"\u001b[39;00m\n\u001b[1;32m-> 1282\u001b[0m     \u001b[39mself\u001b[39;49m\u001b[39m.\u001b[39;49m_send_request(method, url, body, headers, encode_chunked)\n",
            "File \u001b[1;32mc:\\Users\\Neoxlarge\\AppData\\Local\\Programs\\Python\\Python310\\lib\\http\\client.py:1328\u001b[0m, in \u001b[0;36mHTTPConnection._send_request\u001b[1;34m(self, method, url, body, headers, encode_chunked)\u001b[0m\n\u001b[0;32m   1324\u001b[0m \u001b[39mif\u001b[39;00m \u001b[39misinstance\u001b[39m(body, \u001b[39mstr\u001b[39m):\n\u001b[0;32m   1325\u001b[0m     \u001b[39m# RFC 2616 Section 3.7.1 says that text default has a\u001b[39;00m\n\u001b[0;32m   1326\u001b[0m     \u001b[39m# default charset of iso-8859-1.\u001b[39;00m\n\u001b[0;32m   1327\u001b[0m     body \u001b[39m=\u001b[39m _encode(body, \u001b[39m'\u001b[39m\u001b[39mbody\u001b[39m\u001b[39m'\u001b[39m)\n\u001b[1;32m-> 1328\u001b[0m \u001b[39mself\u001b[39;49m\u001b[39m.\u001b[39;49mendheaders(body, encode_chunked\u001b[39m=\u001b[39;49mencode_chunked)\n",
            "File \u001b[1;32mc:\\Users\\Neoxlarge\\AppData\\Local\\Programs\\Python\\Python310\\lib\\http\\client.py:1277\u001b[0m, in \u001b[0;36mHTTPConnection.endheaders\u001b[1;34m(self, message_body, encode_chunked)\u001b[0m\n\u001b[0;32m   1275\u001b[0m \u001b[39melse\u001b[39;00m:\n\u001b[0;32m   1276\u001b[0m     \u001b[39mraise\u001b[39;00m CannotSendHeader()\n\u001b[1;32m-> 1277\u001b[0m \u001b[39mself\u001b[39;49m\u001b[39m.\u001b[39;49m_send_output(message_body, encode_chunked\u001b[39m=\u001b[39;49mencode_chunked)\n",
            "File \u001b[1;32mc:\\Users\\Neoxlarge\\AppData\\Local\\Programs\\Python\\Python310\\lib\\http\\client.py:1037\u001b[0m, in \u001b[0;36mHTTPConnection._send_output\u001b[1;34m(self, message_body, encode_chunked)\u001b[0m\n\u001b[0;32m   1035\u001b[0m msg \u001b[39m=\u001b[39m \u001b[39mb\u001b[39m\u001b[39m\"\u001b[39m\u001b[39m\\r\u001b[39;00m\u001b[39m\\n\u001b[39;00m\u001b[39m\"\u001b[39m\u001b[39m.\u001b[39mjoin(\u001b[39mself\u001b[39m\u001b[39m.\u001b[39m_buffer)\n\u001b[0;32m   1036\u001b[0m \u001b[39mdel\u001b[39;00m \u001b[39mself\u001b[39m\u001b[39m.\u001b[39m_buffer[:]\n\u001b[1;32m-> 1037\u001b[0m \u001b[39mself\u001b[39;49m\u001b[39m.\u001b[39;49msend(msg)\n\u001b[0;32m   1039\u001b[0m \u001b[39mif\u001b[39;00m message_body \u001b[39mis\u001b[39;00m \u001b[39mnot\u001b[39;00m \u001b[39mNone\u001b[39;00m:\n\u001b[0;32m   1040\u001b[0m \n\u001b[0;32m   1041\u001b[0m     \u001b[39m# create a consistent interface to message_body\u001b[39;00m\n\u001b[0;32m   1042\u001b[0m     \u001b[39mif\u001b[39;00m \u001b[39mhasattr\u001b[39m(message_body, \u001b[39m'\u001b[39m\u001b[39mread\u001b[39m\u001b[39m'\u001b[39m):\n\u001b[0;32m   1043\u001b[0m         \u001b[39m# Let file-like take precedence over byte-like.  This\u001b[39;00m\n\u001b[0;32m   1044\u001b[0m         \u001b[39m# is needed to allow the current position of mmap'ed\u001b[39;00m\n\u001b[0;32m   1045\u001b[0m         \u001b[39m# files to be taken into account.\u001b[39;00m\n",
            "File \u001b[1;32mc:\\Users\\Neoxlarge\\AppData\\Local\\Programs\\Python\\Python310\\lib\\http\\client.py:975\u001b[0m, in \u001b[0;36mHTTPConnection.send\u001b[1;34m(self, data)\u001b[0m\n\u001b[0;32m    973\u001b[0m \u001b[39mif\u001b[39;00m \u001b[39mself\u001b[39m\u001b[39m.\u001b[39msock \u001b[39mis\u001b[39;00m \u001b[39mNone\u001b[39;00m:\n\u001b[0;32m    974\u001b[0m     \u001b[39mif\u001b[39;00m \u001b[39mself\u001b[39m\u001b[39m.\u001b[39mauto_open:\n\u001b[1;32m--> 975\u001b[0m         \u001b[39mself\u001b[39;49m\u001b[39m.\u001b[39;49mconnect()\n\u001b[0;32m    976\u001b[0m     \u001b[39melse\u001b[39;00m:\n\u001b[0;32m    977\u001b[0m         \u001b[39mraise\u001b[39;00m NotConnected()\n",
            "File \u001b[1;32mc:\\Users\\Neoxlarge\\AppData\\Local\\Programs\\Python\\Python310\\lib\\site-packages\\urllib3\\connection.py:205\u001b[0m, in \u001b[0;36mHTTPConnection.connect\u001b[1;34m(self)\u001b[0m\n\u001b[0;32m    204\u001b[0m \u001b[39mdef\u001b[39;00m \u001b[39mconnect\u001b[39m(\u001b[39mself\u001b[39m):\n\u001b[1;32m--> 205\u001b[0m     conn \u001b[39m=\u001b[39m \u001b[39mself\u001b[39;49m\u001b[39m.\u001b[39;49m_new_conn()\n\u001b[0;32m    206\u001b[0m     \u001b[39mself\u001b[39m\u001b[39m.\u001b[39m_prepare_conn(conn)\n",
            "File \u001b[1;32mc:\\Users\\Neoxlarge\\AppData\\Local\\Programs\\Python\\Python310\\lib\\site-packages\\urllib3\\connection.py:174\u001b[0m, in \u001b[0;36mHTTPConnection._new_conn\u001b[1;34m(self)\u001b[0m\n\u001b[0;32m    171\u001b[0m     extra_kw[\u001b[39m\"\u001b[39m\u001b[39msocket_options\u001b[39m\u001b[39m\"\u001b[39m] \u001b[39m=\u001b[39m \u001b[39mself\u001b[39m\u001b[39m.\u001b[39msocket_options\n\u001b[0;32m    173\u001b[0m \u001b[39mtry\u001b[39;00m:\n\u001b[1;32m--> 174\u001b[0m     conn \u001b[39m=\u001b[39m connection\u001b[39m.\u001b[39mcreate_connection(\n\u001b[0;32m    175\u001b[0m         (\u001b[39mself\u001b[39m\u001b[39m.\u001b[39m_dns_host, \u001b[39mself\u001b[39m\u001b[39m.\u001b[39mport), \u001b[39mself\u001b[39m\u001b[39m.\u001b[39mtimeout, \u001b[39m*\u001b[39m\u001b[39m*\u001b[39mextra_kw\n\u001b[0;32m    176\u001b[0m     )\n\u001b[0;32m    178\u001b[0m \u001b[39mexcept\u001b[39;00m SocketTimeout:\n\u001b[0;32m    179\u001b[0m     \u001b[39mraise\u001b[39;00m ConnectTimeoutError(\n\u001b[0;32m    180\u001b[0m         \u001b[39mself\u001b[39m,\n\u001b[0;32m    181\u001b[0m         \u001b[39m\"\u001b[39m\u001b[39mConnection to \u001b[39m\u001b[39m%s\u001b[39;00m\u001b[39m timed out. (connect timeout=\u001b[39m\u001b[39m%s\u001b[39;00m\u001b[39m)\u001b[39m\u001b[39m\"\u001b[39m\n\u001b[0;32m    182\u001b[0m         \u001b[39m%\u001b[39m (\u001b[39mself\u001b[39m\u001b[39m.\u001b[39mhost, \u001b[39mself\u001b[39m\u001b[39m.\u001b[39mtimeout),\n\u001b[0;32m    183\u001b[0m     )\n",
            "File \u001b[1;32mc:\\Users\\Neoxlarge\\AppData\\Local\\Programs\\Python\\Python310\\lib\\site-packages\\urllib3\\util\\connection.py:85\u001b[0m, in \u001b[0;36mcreate_connection\u001b[1;34m(address, timeout, source_address, socket_options)\u001b[0m\n\u001b[0;32m     83\u001b[0m     \u001b[39mif\u001b[39;00m source_address:\n\u001b[0;32m     84\u001b[0m         sock\u001b[39m.\u001b[39mbind(source_address)\n\u001b[1;32m---> 85\u001b[0m     sock\u001b[39m.\u001b[39;49mconnect(sa)\n\u001b[0;32m     86\u001b[0m     \u001b[39mreturn\u001b[39;00m sock\n\u001b[0;32m     88\u001b[0m \u001b[39mexcept\u001b[39;00m socket\u001b[39m.\u001b[39merror \u001b[39mas\u001b[39;00m e:\n",
            "\u001b[1;31mKeyboardInterrupt\u001b[0m: "
          ]
        }
      ],
      "source": [
        "#start\n",
        "\n",
        "symbol_list = twstock_symbol_list\n",
        "\n",
        "for symbol in symbol_list:\n",
        "    #ema_data = get_ohlc_data(symbol,timeframe=t_frame)\n",
        "    print(symbol, end=\"\")\n",
        "    ema_data = get_twstock_ohlc_data(symbol)\n",
        "    is_long = check_long_condition_ema(ema_data)\n",
        "    #is_long = check_long_condition_sma(ema_data)\n",
        "\n",
        "    is_short = check_short_condition_ema(ema_data)\n",
        "    #is_short = check_short_condition_sma(ema_data)\n",
        "\n",
        "    print(\"\\r\")\n",
        "    symbol_name = symbol.split(\"/\")[0]\n",
        "\n",
        "    if is_long == True:\n",
        "        msg = f\"💰💰💰 {symbol} is Golden Cross!!\"\n",
        "        print(msg)\n",
        "        plotly_kline(ema_data)    \n",
        "        #send photo\n",
        "        send_to_bot_photo(tid_=chat_id, msg=msg, bot_token_=bot_token, photo_opened=open(f\"{symbol_name}.png\", \"rb\"))\n",
        "\n",
        "\n",
        "    elif is_short == True:\n",
        "        msg = f\"☠️☠️☠️ {symbol} is Dead Cross!!\"\n",
        "        print(msg)\n",
        "        plotly_kline(ema_data)    \n",
        "        #send photo\n",
        "        send_to_bot_photo(tid_=chat_id, msg=msg, bot_token_=bot_token, photo_opened=open(f\"{symbol_name}.png\", \"rb\"))"
      ]
    }
  ],
  "metadata": {
    "colab": {
      "authorship_tag": "ABX9TyOxpMLWyxqU8WWDyJyleWP/",
      "collapsed_sections": [],
      "include_colab_link": true,
      "name": "vegas ema  v0.3",
      "provenance": []
    },
    "kernelspec": {
      "display_name": "Python 3.10.5 64-bit",
      "language": "python",
      "name": "python3"
    },
    "language_info": {
      "codemirror_mode": {
        "name": "ipython",
        "version": 3
      },
      "file_extension": ".py",
      "mimetype": "text/x-python",
      "name": "python",
      "nbconvert_exporter": "python",
      "pygments_lexer": "ipython3",
      "version": "3.10.5"
    },
    "vscode": {
      "interpreter": {
        "hash": "7518c2d94d56795350c911b421abc6df3e3069473fc8630d77e6305a35218b0d"
      }
    }
  },
  "nbformat": 4,
  "nbformat_minor": 0
}
